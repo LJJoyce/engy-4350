{
 "cells": [
  {
   "cell_type": "markdown",
   "metadata": {},
   "source": [
    "Engy-4350 Spring 2019 UMass Lowell; Prof. V. F. de Almeida 20Jan2019\n",
    "\n",
    "# ENGY-4350 Nuclear Reactor Engineering – Course Syllabus"
   ]
  },
  {
   "cell_type": "markdown",
   "metadata": {},
   "source": [
    "### Instructor: Prof. Valmor F. de Almeida                 \n",
    "**Office:**    Pinanski Hall 301G. <br> \n",
    "**Email:**     valmor_dealmeida@uml.edu. <br>\n",
    "**Web:**       https://www.uml.edu/Engineering/Chemical/faculty/de-Almeida-Valmor.aspx <br>   \n",
    "**Lectures:** Kitson Hall 303, Mon, Wed 2:00 – 3:15 pm. <br>   \n",
    "**Days meetings total Mon/Wed:** 25. <br>\n",
    "**Week meetings total:** 14. <br>\n",
    "**Website:** On-line course [repository](https://github.com/dpploy/engy-4350) and UMass Lowell Blackboard System. <br>\n",
    "**Office hours and location:** meet at 3:30 – 4:00 pm, Mon/Wed at Pinanski Hall 301G. <br>\n",
    "**Other means of contact:**  email. <br>\n",
    "**Computational support:** UML Linux Group Spring meeting Wed 4:30 pm Pinanski Hall 301. <br>    \n",
    "**Teaching assistant:** Unknown. <br>    \n",
    "**Catalog description:** <br>\n",
    "This course provides an overview of pertinent topics in basic nuclear heat generation and removal in a nuclear      reactor, power conversion, and overall system integration and safety.<br>    \n",
    "**Prerequisites:** ENGY.4340 Nuclear Reactor Theory, familiarity with thermo, fluids, and heat transfer.<br>\n",
    "**Co-requisites:** none.<br>\n",
    "**Course designation:** core. <br>    \n",
    "**References:**<br>\n",
    " 1. *Nuclear Heat Transport*, M. M. El-Wakil, ANS, 1981, third printing, 502 pp.\n",
    " 2. *Nuclear Energy Conversion*, M. M. El-Wakil, ANS, 1982, 666 pp.\n",
    " 3. *Nuclear Systems: Thermal Hydraulics Fundamentals*, Vol. 1,  N. E. Todreas and M. S. Kazimi, CRC Press, 2011, 2$^\\text{nd}$ edition, 1034 pp.\n",
    " 4. *Nuclear Systems: Elements of Thermal Hydraulics Design*, Vol. 2,  N. E. Todreas and M. S. Kazimi, CRC Press, 1990, 1$^\\text{st}$ edition, 520 pp.*\n",
    " 5. **\n",
    " 6. **\n",
    " \n",
    "**Software:** Jupyter notebook access options<br>\n",
    " 1. Use Binder at the course [repository](https://github.com/dpploy/engy-4350) (see instructions at the site).\n",
    " 2. Browser based cloud service: [Azure](https://notebooks.azure.com/). Login with your student UMass Lowell student credential and start a Jupyter Notebook. This is a free Microsoft cloud service!\n",
    " 3. [Anaconda](https://docs.anaconda.com/anaconda/install/#) free download (use the Python 3 version) and use (Mac OS X or Windows). After install, use [Anaconda-Navigator](https://docs.anaconda.com/anaconda/navigator/) to start a Jupyter Notebook.\n",
    "\n",
    "**Suplement materials:** On-line course [repository](https://github.com/dpploy/engy-4350) and UMass Lowell Blackboard System.\n",
    "\n",
    "**Course topics:**\n",
    "\n",
    "**Grading notes:** for grading purposes the requirements for this course include:\n",
    " 1. Homework\n",
    " 2. Midterm exam\n",
    " 3. Project\n",
    " 4. Final exam\n",
    " \n",
    "Make up of late laboratory work assignments and mid-term project will be resolved on a case-by-case basis if there is enough evidence of a special circumstance."
   ]
  },
  {
   "cell_type": "markdown",
   "metadata": {},
   "source": [
    "**Classroom Conduct:** Students are expected to exhibit professional and respectful behavior that is conducive to a mutually beneficial learning environment in the classroom. Examples of inappropriate behavior include: text messaging, listening to music, cell phone use (other than the campus alert system), late arrivals, early departures, use of laptops for other than class purposes, disrespectful comments or behavior, intentional disruptions, failure to follow faculty directives, etc. Students in violation of these standards may be asked to leave class and/or be referred to the Dean of Students for disciplinary action.\n",
    "\n",
    "**Academic Integrity:** Cheating and plagiarism will not be tolerated. A first offense will result in a failing grade for the assignment/exam in question and a formal filing with the Office of Provost according to the Academic Integrity Policy. A second offense could lead to a failing grade in the course, suspension or expulsion, as detailed in the policy, defined [here](https://www.uml.edu/Catalog/Undergraduate/Policies/Academic-Policies/Academic-Integrity.aspx)\n",
    "\n",
    "**Instructional Resources:**  The Centers for Learning and Academic Support Services provide many tutoring resources; more details are available [here](https://www.uml.edu/class/)\n",
    "Technology Resources: For a listing of available computing and software resources available to students, [visit here]( https://www.uml.edu/IT/Services/DLC/)\n",
    "\n",
    "**Accommodations:** In accordance with University policy and the ADA, accommodations are provided for students with documented disabilities. If you have a disability, please contact the Office of Disability Services as soon as possible. Their office is in UC 220 (978-934-4574, Disability@uml.edu). Documentation of disability is confidential. Requests for accommodation for religious reasons should be directed to Equal Opportunity and Outreach at 978-934-3565, Wannalancit Mills, Suite 301. \n",
    "\n",
    "**Counseling Services:** As part of the Wellness Center, Counseling Services at UMass Lowell provide mental health counseling, consultation and referrals to help students achieve personal and academic success. They also assist students in better understanding and coping with their feelings, relationships, and choices surrounding their academic success. Visit https://www.uml.edu/student-services/Counseling/\n",
    "Veterans’ Services: UMass Lowell is committed to helping our military students take full advantage of all the educational benefits available through the federal and state governments. For complete information on the services and resources available please visit our website at: https://www.uml.edu/student-services/Veterans/\n",
    "University Cancellation Information: If campus is closed (most likely for weather), visit the website for announcements relevant to the class."
   ]
  },
  {
   "cell_type": "code",
   "execution_count": null,
   "metadata": {},
   "outputs": [],
   "source": []
  }
 ],
 "metadata": {
  "kernelspec": {
   "display_name": "Python 3",
   "language": "python",
   "name": "python3"
  },
  "language_info": {
   "codemirror_mode": {
    "name": "ipython",
    "version": 3
   },
   "file_extension": ".py",
   "mimetype": "text/x-python",
   "name": "python",
   "nbconvert_exporter": "python",
   "pygments_lexer": "ipython3",
   "version": "3.6.5"
  },
  "latex_envs": {
   "LaTeX_envs_menu_present": true,
   "autoclose": false,
   "autocomplete": true,
   "bibliofile": "biblio.bib",
   "cite_by": "apalike",
   "current_citInitial": 1,
   "eqLabelWithNumbers": true,
   "eqNumInitial": 1,
   "hotkeys": {
    "equation": "Ctrl-E",
    "itemize": "Ctrl-I"
   },
   "labels_anchors": false,
   "latex_user_defs": false,
   "report_style_numbering": false,
   "user_envs_cfg": false
  }
 },
 "nbformat": 4,
 "nbformat_minor": 2
}
