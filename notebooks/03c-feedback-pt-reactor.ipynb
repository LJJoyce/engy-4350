{
 "cells": [
  {
   "cell_type": "markdown",
   "metadata": {},
   "source": [
    "Engy-4350: Nuclear Reactor Engineering Spring 2019 UMass Lowell; Prof. V. F. de Almeida **19Feb2019**\n",
    "\n",
    "# 03c. Nuclear Reactor Point Dynamics: Reactivity Feedback\n",
    "$  \n",
    "  \\newcommand{\\Amtrx}{\\boldsymbol{\\mathsf{A}}}\n",
    "  \\newcommand{\\Bmtrx}{\\boldsymbol{\\mathsf{B}}}\n",
    "  \\newcommand{\\Mmtrx}{\\boldsymbol{\\mathsf{M}}}\n",
    "  \\newcommand{\\Imtrx}{\\boldsymbol{\\mathsf{I}}}\n",
    "  \\newcommand{\\Pmtrx}{\\boldsymbol{\\mathsf{P}}}\n",
    "  \\newcommand{\\Lmtrx}{\\boldsymbol{\\mathsf{L}}}\n",
    "  \\newcommand{\\Umtrx}{\\boldsymbol{\\mathsf{U}}}\n",
    "  \\newcommand{\\Smtrx}{\\boldsymbol{\\mathsf{S}}}\n",
    "  \\newcommand{\\xvec}{\\boldsymbol{\\mathsf{x}}}\n",
    "  \\newcommand{\\uvar}{\\boldsymbol{u}}\n",
    "  \\newcommand{\\fvar}{\\boldsymbol{f}}\n",
    "  \\newcommand{\\avec}{\\boldsymbol{\\mathsf{a}}}\n",
    "  \\newcommand{\\bvec}{\\boldsymbol{\\mathsf{b}}}\n",
    "  \\newcommand{\\cvec}{\\boldsymbol{\\mathsf{c}}}\n",
    "  \\newcommand{\\rvec}{\\boldsymbol{\\mathsf{r}}}\n",
    "  \\newcommand{\\mvec}{\\boldsymbol{\\mathsf{m}}}\n",
    "  \\newcommand{\\gvec}{\\boldsymbol{\\mathsf{g}}}\n",
    "  \\newcommand{\\zerovec}{\\boldsymbol{\\mathsf{0}}}\n",
    "  \\newcommand{\\norm}[1]{\\bigl\\lVert{#1}\\bigr\\rVert}\n",
    "  \\newcommand{\\transpose}[1]{{#1}^\\top}\n",
    "  \\DeclareMathOperator{\\rank}{rank}\n",
    "  \\newcommand{\\Power}{\\mathcal{P}}\n",
    "$"
   ]
  },
  {
   "cell_type": "markdown",
   "metadata": {},
   "source": [
    "---\n",
    "## Table of Contents\n",
    "* [Objectives](#obj)\n",
    "* [Introduction](#intro)\n",
    "* [Problem Statement](#ps)\n",
    "* [Input Data](#data)\n",
    "* [Steady state](#ss)\n",
    "* [Vector ODE System](#vodes)\n",
    "* [Function library](#flib)\n",
    "* [One-Group Energy Neutron Balance](#nbal)\n",
    "* [Reactivity Step with Negative Feedback Results](#res1)\n",
    "* [Interactive Results](#ires)\n",
    "---"
   ]
  },
  {
   "cell_type": "markdown",
   "metadata": {},
   "source": [
    "## Objectives<a id=\"obj\"></a>\n",
    "+ Use one-group energy, point-reactor dynamics modeling (six-group delayed neutron emitters) to obtain insight on neutron density behavior with time-dependent reactivity.\n",
    "+ Explore and understand intrinsic feedback."
   ]
  },
  {
   "cell_type": "markdown",
   "metadata": {},
   "source": [
    "## Introduction<a id=\"intro\"></a>\n",
    "\n",
    "In-class course notes OneNote [ChEn-4350-feedback](https://studentuml-my.sharepoint.com/:o:/g/personal/valmor_dealmeida_uml_edu/Eo9JUns42F1Pqmq4tFS9sJsBv2jF8UDQvRb5l5Z2D5ssag?e=FDeSpV).\n",
    "\n",
    "Refer to Notebook 03a.\n"
   ]
  },
  {
   "cell_type": "markdown",
   "metadata": {},
   "source": [
    "## Problem Statement<a id=\"ps\"></a>\n",
    "\n",
    "Given the neutron generation time $\\ell$, delayed neutron fraction, $\\beta$, decay constants of a six-group delayed neutron emitters, $\\lambda_i$, and corresponding yield of delayed neutron fractions for each emitter, $\\beta_i$, calculate the pointwise neutron density variation with time for **varying** neutron reactivity, $\\rho(t)$.\n"
   ]
  },
  {
   "cell_type": "markdown",
   "metadata": {},
   "source": [
    "## Input Data<a id=\"data\"></a>\n",
    "\n",
    "Name                        | Parameter          | Value                | Unit             |\n",
    "----------------------------|--------------------|----------------------|------------------| \n",
    "neutron generation time     | $\\ell$             | $1\\times 10^{-4}$    |  s               | \n",
    "delayed neutron fraction    | $\\beta$            | $6.5\\times 10^{-3}$  |  -               | \n",
    "reactivity feedback coef.   | $\\alpha_n$         | $-10^{-2}$           |  cm$^3$          |\n",
    "\n",
    "\n",
    "For thermal fission of $^{235}$U the following delay neutron data is typically used (*Dynamics of Nuclear Reactors*, David Hetrick, 1993, ANS textbook).\n",
    "\n",
    "\n",
    "Delayed neutron emitter group No. | Decay cte ($\\lambda_i$,1/sec) | Relative yield ($\\beta_i/\\beta$) |\n",
    "----------------------------------|-------------------------------|----------------------------------| \n",
    "1                                 | 0.0124                        | 0.033                            |\n",
    "2                                 | 0.0305                        | 0.219                            | \n",
    "3                                 | 0.111                         | 0.196                            |  \n",
    "4                                 | 0.301                         | 0.395                            | \n",
    "5                                 | 1.14                          | 0.115                            |\n",
    "6                                 | 3.01                          | 0.042                            |"
   ]
  },
  {
   "cell_type": "code",
   "execution_count": 1,
   "metadata": {},
   "outputs": [],
   "source": [
    "'''Parameters'''\n",
    "\n",
    "params = dict()\n",
    "\n",
    "params['gen_time']          = 1.0e-4  # s\n",
    "params['beta']              = 6.5e-3  # \n",
    "params['species_decay']     = [0.0124, 0.0305, 0.111, 0.301, 1.14, 3.01] # 1/sec\n",
    "params['species_rel_yield'] = [0.033, 0.219, 0.196, 0.395, 0.115, 0.042] \n",
    "params['alpha_n']           = -1e-2 # cm^3"
   ]
  },
  {
   "cell_type": "markdown",
   "metadata": {},
   "source": [
    "## One-Group Energy  Neutron Balance<a id=\"nbal\"></a>\n",
    "\n",
    "The space-invariant neutron balance for the point-reactor model without a startup source (or extraneous source), $q = 0$, is\n",
    "\n",
    "\\begin{equation*}\n",
    "\\frac{\\text{d}n}{\\text{d}t}  = \\frac{\\rho(t)-\\beta}{\\ell}\\, n + \\sum\\limits_{i=1}^{6} \\lambda_i\\,c_i  + q(t),\n",
    "\\end{equation*}\n",
    "\n",
    "where the first term on the right side of the equation represents the net production of neutrons not account for delayed neutrons, and the second term accounts for the source of delayed neutrons considering 6 groups of delayed neutron emitters resulting from the fission of $^{235}$U nuclei. Therefore a balance of neutron emitter species is also necessary\n",
    "\n",
    "\\begin{equation*}\n",
    "\\frac{\\text{d}c_i}{\\text{d}t}  = \\frac{\\beta_i}{\\ell}\\, n - \\lambda_i\\,c_i ,\n",
    "     \\ \\ \\ \\ \\ \\forall \\ \\ \\ \\ \\  i=1,\\ldots,6.\n",
    "\\end{equation*}\n",
    "\n",
    "where the first term on the right side of the equation is the source of emitters as a function of the neutron number density $n(t)$, and the second term is the consumption rate of the emitter by radioactive decay obtained as a function of the product of the number concentration of the emmiter, $c_i(t)$, multiplied by its decay constant $\\lambda_i$. Here the number concentration of of the $i$th emitter, $c_i$ is considered in terms of delayed neutron number density, hence the units are the same as $n$.\n",
    "\n",
    "An example of a generic reactivity feedback model is as\n",
    "\n",
    "\\begin{equation*}\n",
    " \\rho(t) = \\rho_0 + \\alpha_n\\,\\bigl(n(t) - n(0)\\bigr),\n",
    "\\end{equation*}\n",
    "\n",
    "where $\\alpha_n \\le 0$ is the feedback coefficient and the initially applied reactivity is $\\rho_0$."
   ]
  },
  {
   "cell_type": "markdown",
   "metadata": {},
   "source": [
    "## Steady State<a id=\"ss\"></a>\n",
    "\n",
    "Neutron density and delayed neutron precursor concentrations are related as follows:\n",
    "\n",
    "\\begin{align*}\n",
    "n_\\text{ss}  &= -\\frac{q_\\text{ss}\\,\\ell }{\\rho_\\text{ss} }\n",
    "\\\\\n",
    "c_{i_\\text{ss}}  &= \\frac{\\beta_i}{\\lambda_i\\,\\ell}\\, n_\\text{ss}   \\ \\ \\ \\ \\forall \\ \\ \\ \\ i=1,\\ldots,6 .\n",
    "\\end{align*}"
   ]
  },
  {
   "cell_type": "code",
   "execution_count": 2,
   "metadata": {
    "code_folding": [
     2
    ]
   },
   "outputs": [],
   "source": [
    "'''Setup function for delayed neutron species concentrations at steady state'''\n",
    "\n",
    "def setup_initial_conditions(params):\n",
    "    \n",
    "    # setup the steady state for the delayed-neutron precursors\n",
    "    \n",
    "    n_species = len(params['species_decay'])\n",
    "    \n",
    "    assert len(params['species_rel_yield']) == n_species\n",
    "    \n",
    "    import numpy as np\n",
    "    c_vec_0 = np.zeros(n_species,dtype=np.float64) # initialize conentration vector\n",
    "\n",
    "    species_decay = params['species_decay'] # retrieve list of decay constants\n",
    "    lambda_vec    = np.array(species_decay) # create a numpy vector\n",
    "\n",
    "    species_rel_yield = params['species_rel_yield']\n",
    "    beta_vec = np.array(species_rel_yield) * beta  # create the beta_i's vector\n",
    "\n",
    "    gen_time = params['gen_time'] # retrieve neutron generation time\n",
    "\n",
    "    n_ss = params['n_ss']\n",
    "    c_vec_ss = beta_vec/lambda_vec/gen_time * n_ss # compute the steady state precursors number density\n",
    "    \n",
    "    params['c_vec_ss'] = c_vec_ss\n",
    "    \n",
    "    # setup initial condition for variables\n",
    "    params['n_0']     = n_ss\n",
    "    params['c_vec_0'] = c_vec_ss\n",
    "    params['rho_0']   = params['reactivity']\n",
    "    \n",
    "    return"
   ]
  },
  {
   "cell_type": "markdown",
   "metadata": {},
   "source": [
    "## Vector ODE System<a id=\"vodes\"></a>\n",
    "\n",
    "Refer to course notes OneNote [ChEn-3170-odes](https://studentuml-my.sharepoint.com/:o:/g/personal/valmor_dealmeida_uml_edu/EmY427F-dSBKkpfFOx4ikf8BVAlJXL5iep1g7V7hcTQxJQ?e=98c69b).\n",
    "\n",
    "A vector notation for the foregoing system of equations greatly improves the generality of the derived computer code. Towards this goal let us define\n",
    "\n",
    "\\begin{equation*}\n",
    "\\frac{d\\uvar}{dt} = \\fvar( \\uvar, t )\n",
    "\\end{equation*}\n",
    "\n",
    "where $\\uvar(t) = (u_1,u_2,u_3,u_4,u_5,u_6,u_7)$ is the state vector and we assign \n",
    "\n",
    "\\begin{align*}\n",
    " u_1(t)&=n(t),\\\\\n",
    " u_2(t)&=c_1(t),\\\\\n",
    " u_3(t)&=c_2(t),\\\\\n",
    " u_4(t)&=c_3(t),\\\\\n",
    " u_5(t)&=c_4(t),\\\\\n",
    " u_6(t)&=c_5(t),\\\\\n",
    " u_7(t)&=c_6(t).\n",
    "\\end{align*}\n",
    "\n",
    "Also for $\\fvar(\\uvar,t) = \\bigl(f_1(\\uvar,t), f_2(\\uvar,t), f_3(\\uvar,t), f_4(\\uvar,t), f_5(\\uvar,t), f_6(\\uvar,t), f_7(\\uvar,t)\\bigr)$ we assign \n",
    "\n",
    "\\begin{align*}\n",
    " f_1 & = \\frac{\\rho(t)-\\beta}{\\ell}\\, u_1 + \\sum\\limits_{i=2}^{7} \\lambda_i\\,u_i + q(t), \\\\\n",
    " f_2 & = \\frac{\\beta_1}{\\ell}\\, u_1 - \\lambda_1\\,u_2, \\\\\n",
    " f_3 & = \\frac{\\beta_2}{\\ell}\\, u_1 - \\lambda_2\\,u_3, \\\\\n",
    " f_4 & = \\frac{\\beta_3}{\\ell}\\, u_1 - \\lambda_3\\,u_4, \\\\\n",
    " f_5 & = \\frac{\\beta_4}{\\ell}\\, u_1 - \\lambda_4\\,u_5, \\\\\n",
    " f_6 & = \\frac{\\beta_5}{\\ell}\\, u_1 - \\lambda_5\\,u_6, \\\\\n",
    " f_7 & = \\frac{\\beta_6}{\\ell}\\, u_1 - \\lambda_6\\,u_7 .\n",
    "\\end{align*}\n",
    "\n",
    "Finally, the initial conditions given are as follows:\n",
    "\n",
    "\\begin{align*}\n",
    " u_1(0)&=n_0,\\\\\n",
    " u_2(0)&=c_{1_0},\\\\\n",
    " u_3(0)&=c_{2_0},\\\\\n",
    " u_4(0)&=c_{3_0},\\\\\n",
    " u_5(0)&=c_{4_0},\\\\\n",
    " u_6(0)&=c_{5_0},\\\\\n",
    " u_7(0)&=c_{6_0}\n",
    "\\end{align*}\n",
    "\n",
    "\n",
    "where $n_0$ and $c_{i_0}$ are initial values for the unknowns given by the problem specification."
   ]
  },
  {
   "cell_type": "markdown",
   "metadata": {},
   "source": [
    "## Function Library <a id=\"flib\"></a>\n",
    "\n",
    "Functions used later in the notebook."
   ]
  },
  {
   "cell_type": "code",
   "execution_count": 3,
   "metadata": {
    "code_folding": [
     2,
     8,
     10,
     12
    ]
   },
   "outputs": [],
   "source": [
    "'''Source function'''\n",
    "\n",
    "def rho_func( t, n_dens, params ):\n",
    "    '''\n",
    "    Reactivity function.  \n",
    "    \n",
    "    Parameters\n",
    "    ----------\n",
    "    t: float, required\n",
    "        Time.\n",
    "    n_dens: float, required\n",
    "        Neutron density at time t.\n",
    "    params: dict, required\n",
    "        Dictionary of quantities. It must have a `'q_0'` key/value pair.\n",
    "    \n",
    "    Returns\n",
    "    -------\n",
    "    rho_t: float\n",
    "        Value of reactivity.\n",
    "\n",
    "    Examples\n",
    "    --------\n",
    "    '''\n",
    "    \n",
    "    rho_0    = params['rho_0']\n",
    "    alpha_n  = params['alpha_n']\n",
    "    n_dens_0 = params['n_0']\n",
    "    \n",
    "    rho_t = rho_0 + alpha_n * (n_dens - n_dens_0)\n",
    "        \n",
    "    return rho_t"
   ]
  },
  {
   "cell_type": "code",
   "execution_count": 4,
   "metadata": {
    "code_folding": [
     2
    ]
   },
   "outputs": [],
   "source": [
    "'''Source function'''\n",
    "\n",
    "def q_source( t, params ):\n",
    "    '''\n",
    "    Neutron source delta function.  \n",
    "    \n",
    "    Parameters\n",
    "    ----------\n",
    "    t: float, required\n",
    "        Time.\n",
    "    params: dict, required\n",
    "        Dictionary of quantities. It must have a `'q_0'` key/value pair.\n",
    "    \n",
    "    Returns\n",
    "    -------\n",
    "    q: float\n",
    "        Value of source.\n",
    "\n",
    "    Examples\n",
    "    --------\n",
    "    '''\n",
    "    \n",
    "    q = 0.0\n",
    "    q_0 = params['q_0']\n",
    "    \n",
    "    if t <= 1e-5: # small time value\n",
    "        q = q_0\n",
    "    else:\n",
    "        q = 0.0\n",
    "        \n",
    "    return q"
   ]
  },
  {
   "cell_type": "code",
   "execution_count": 5,
   "metadata": {
    "code_folding": [
     2
    ]
   },
   "outputs": [],
   "source": [
    "'''ODE function'''\n",
    "\n",
    "def f_vec( time, u_vec, params ):  \n",
    "    \n",
    "    import numpy as np\n",
    "    assert np.all(u_vec >= 0.0)\n",
    "    \n",
    "    n_dens = u_vec[0]\n",
    "    \n",
    "    gen_time = params['gen_time'] \n",
    "    beta     = params['beta']\n",
    "    \n",
    "    species_decay = params['species_decay']\n",
    "    lambda_vec    = np.array(species_decay)\n",
    "    \n",
    "    species_rel_yield = params['species_rel_yield']\n",
    "    beta_vec = np.array(species_rel_yield) * beta\n",
    "    \n",
    "    assert len(lambda_vec)==len(beta_vec)\n",
    "    \n",
    "    rho_t = rho_func(time, n_dens, params)\n",
    "    \n",
    "    q_source_t = q_source(time, params)\n",
    "         \n",
    "    c_vec = u_vec[1:]\n",
    "    \n",
    "    n_species = len(lambda_vec)\n",
    "    f_tmp = np.zeros(n_species+1,dtype=np.float64) # vector for f_vec return\n",
    "    \n",
    "    # neutron balance\n",
    "    f_tmp[0] = (rho_t - beta)/gen_time * n_dens + lambda_vec @ c_vec + q_source_t\n",
    "    \n",
    "    # loop over 6 species balance\n",
    "    f_tmp[1:] = beta_vec/gen_time * n_dens - lambda_vec * c_vec\n",
    "    \n",
    "    return f_tmp"
   ]
  },
  {
   "cell_type": "code",
   "execution_count": 6,
   "metadata": {
    "code_folding": [
     2
    ]
   },
   "outputs": [],
   "source": [
    "'''Create the point-reactor run function'''\n",
    "\n",
    "def run_point_reactor( f_vec, params ):\n",
    "\n",
    "    from scipy.integrate import odeint # Load ODE solver package\n",
    "\n",
    "    import numpy as np\n",
    "    time_final = params['time_final']\n",
    "    n_time_stamps = params['n_time_stamps']\n",
    "    time_stamps = np.linspace(0.0, time_final, num=n_time_stamps) # create the time stamps for solution values\n",
    "    params['time_stamps'] = time_stamps\n",
    "    \n",
    "    max_n_steps_per_time_step = 100 # max number of nonlinear algebraic solver iterations per time step\n",
    "\n",
    "    n_0     = params['n_0']\n",
    "    c_vec_0 = params['c_vec_0']\n",
    "       \n",
    "    # m-equation point reactor model\n",
    "    n_species = len(c_vec_0)\n",
    "    u_vec_0 = np.zeros(n_species+1,dtype=np.float64)\n",
    "    \n",
    "    u_vec_0[0]  = n_0\n",
    "    u_vec_0[1:] = c_vec_0\n",
    "            \n",
    "    (u_vec_history, info_dict) = odeint( f_vec, u_vec_0, time_stamps,\n",
    "                                         args=( params, ),\n",
    "                                         rtol=1e-4, atol=1e-4, mxstep=max_n_steps_per_time_step,\n",
    "                                         full_output=True, tfirst=True )\n",
    "\n",
    "    assert info_dict['message']=='Integration successful.',\\\n",
    "                     'Fatal: scipy.integrate.odeint failed %r'%info_dict['message']\n",
    "    \n",
    "    return u_vec_history"
   ]
  },
  {
   "cell_type": "code",
   "execution_count": 7,
   "metadata": {
    "code_folding": [
     2
    ]
   },
   "outputs": [],
   "source": [
    "'''Plotting function definition'''\n",
    "\n",
    "def plot_results( u_vec_history, semi_log=False, markers=False, precursors=True ):\n",
    "    \n",
    "    time_stamps = params['time_stamps']\n",
    "        \n",
    "    import matplotlib.pyplot as plt\n",
    "    \n",
    "    fig, ax1 = plt.subplots(1, figsize=(14, 6))\n",
    "\n",
    "    if precursors == True:\n",
    "        \n",
    "        ax2 = ax1.twinx() # duplicate x axes to plot n and c_i's in different y axes\n",
    "    \n",
    "        color_ids = np.linspace(0,1,u_vec_history[:,1:].shape[1])\n",
    "    \n",
    "        for (j,color_id) in zip( range(u_vec_history[:,1:].shape[1]), color_ids ):\n",
    "            color=plt.cm.nipy_spectral(color_id)\n",
    "        \n",
    "            ax2.plot(time_stamps,u_vec_history[:,j+1]/params['c_vec_0'][j],'-.',color=color,label=r'$c_%i$'%(j+1) )\n",
    "        \n",
    "        ax2.set_ylabel(r'$c_i/c_{i_0}$',fontsize=16,color='black')\n",
    "        ax2.tick_params(axis='y', labelcolor='black', labelsize=14)\n",
    "        ax2.legend(loc='lower right',fontsize=12)\n",
    "        if semi_log == True:\n",
    "            ax2.set_yscale('log') # uncomment to plot y in log scale\n",
    "        #ax2.grid(True)\n",
    "\n",
    "    if markers == True:\n",
    "        ax1.plot(time_stamps,u_vec_history[:,0]/params['n_0'],'-',marker='+',color='red',label=r'$n/n_0$' )\n",
    "    else:\n",
    "        ax1.plot(time_stamps,u_vec_history[:,0]/params['n_0'],'-',color='red',label=r'$n/n_0$' )\n",
    "\n",
    "    ax1.set_xlabel(r'Time [s]',fontsize=16)\n",
    "    ax1.set_ylabel(r'$n/n_0$',fontsize=16,color='black')\n",
    "    ax1.tick_params(axis='y', labelcolor='black', labelsize=14)\n",
    "    ax1.tick_params(axis='x', labelsize=14)\n",
    "    ax1.legend(loc='best',fontsize=12)\n",
    "    if semi_log == True:\n",
    "        ax1.set_yscale('log') # uncomment to plot y in log scale\n",
    "    ax1.grid(True)\n",
    "\n",
    "    plt.title(r'Point-Reactor Model: $\\rho/\\beta=$'\n",
    "              +str(params['reactivity']/params['beta'])\n",
    "              +r'; $q_0=$'+str(round(params['q_0'],2)),\n",
    "              fontsize=18)\n",
    "    fig.tight_layout()  # otherwise the right y-label is slightly clipped\n",
    "    plt.show()\n",
    "    print('')"
   ]
  },
  {
   "cell_type": "code",
   "execution_count": 8,
   "metadata": {
    "code_folding": [
     2
    ]
   },
   "outputs": [],
   "source": [
    "'''Utility function to peak at results table'''\n",
    "\n",
    "def peek(time,data, head=5, tail=5):  \n",
    "\n",
    "    import pandas as pd\n",
    "    \n",
    "    layout = {'time':time[:head]}\n",
    "    layout['n'] = data[:head,0]\n",
    "    for j in range(1,data.shape[1]):\n",
    "        layout['c_%i'%j] = data[:head,j]\n",
    "    results = pd.DataFrame(layout)\n",
    "    print(round(results,3))\n",
    "    print('')\n",
    "    \n",
    "    layout = {'time':time[-tail:]}\n",
    "    layout['n'] = data[-tail:,j]\n",
    "    for j in range(1,data.shape[1]):\n",
    "        layout['c_%i'%j] = data[-tail:,j]\n",
    "    results = pd.DataFrame(layout)\n",
    "    print(round(results,3))\n",
    "    print('')"
   ]
  },
  {
   "cell_type": "markdown",
   "metadata": {},
   "source": [
    "## Reactivity Step with Negative Feedback<a id=\"res1\"></a>\n",
    "\n",
    "Critical steady state with a step change in reactivity."
   ]
  },
  {
   "cell_type": "code",
   "execution_count": 9,
   "metadata": {},
   "outputs": [],
   "source": [
    "'''Setup up initial conditions'''\n",
    "\n",
    "import numpy as np\n",
    "\n",
    "params['q_0'] = 0.0 # must set the initial value of the source here\n",
    "\n",
    "params['n_ss'] = np.random.random() # arbitrary value at steady state\n",
    "\n",
    "rho_0_over_beta = 0.10 # $\n",
    "\n",
    "beta = params['beta'] # retrieve the delayed neutron fraction\n",
    "params['reactivity'] = rho_0_over_beta * beta # \"rho/beta = 10 cents\"\n",
    "\n",
    "params['alpha_n'] = -1e-2 # cm^3\n",
    "#params['alpha_n'] = 0 # cm^3\n",
    "\n",
    "# setup remaining initial conditions\n",
    "setup_initial_conditions(params)"
   ]
  },
  {
   "cell_type": "code",
   "execution_count": 10,
   "metadata": {},
   "outputs": [],
   "source": [
    "'''Evolve the point-reactor'''\n",
    "\n",
    "time_final    = 200 # s\n",
    "n_time_stamps = 200 # number of solution values in time\n",
    "\n",
    "params['time_final']    = time_final\n",
    "params['n_time_stamps'] = n_time_stamps\n",
    "\n",
    "# Run the reactor and compute the history of the state variables; tabular form, one row per time stamp\n",
    "u_vec_history = run_point_reactor( f_vec, params )"
   ]
  },
  {
   "cell_type": "code",
   "execution_count": 12,
   "metadata": {
    "scrolled": false
   },
   "outputs": [
    {
     "data": {
      "image/png": "[encoded data removed]",
      "text/plain": [
       "<Figure size 1008x432 with 2 Axes>"
      ]
     },
     "metadata": {
      "needs_background": "light"
     },
     "output_type": "display_data"
    },
    {
     "name": "stdout",
     "output_type": "stream",
     "text": [
      "\n"
     ]
    }
   ],
   "source": [
    "'''Plot neutron and delayed neutron emitter concentration in the reactor'''\n",
    "\n",
    "plot_results(u_vec_history)"
   ]
  },
  {
   "cell_type": "markdown",
   "metadata": {},
   "source": [
    "## Interactive Results <a id=\"ires\"></a>\n",
    "Here we can change the parameters interactively and compute the dynamics automatically."
   ]
  },
  {
   "cell_type": "code",
   "execution_count": 16,
   "metadata": {},
   "outputs": [
    {
     "data": {
      "text/html": [
       "<script type=\"text/javascript\">window.PlotlyConfig = {MathJaxConfig: 'local'};</script><script type=\"text/javascript\">if (window.MathJax) {MathJax.Hub.Config({SVG: {font: \"STIX-Web\"}});}</script><script>requirejs.config({paths: { 'plotly': ['https://cdn.plot.ly/plotly-latest.min']},});if(!window._Plotly) {require(['plotly'],function(plotly) {window._Plotly=plotly;});}</script>"
      ],
      "text/vnd.plotly.v1+html": [
       "<script type=\"text/javascript\">window.PlotlyConfig = {MathJaxConfig: 'local'};</script><script type=\"text/javascript\">if (window.MathJax) {MathJax.Hub.Config({SVG: {font: \"STIX-Web\"}});}</script><script>requirejs.config({paths: { 'plotly': ['https://cdn.plot.ly/plotly-latest.min']},});if(!window._Plotly) {require(['plotly'],function(plotly) {window._Plotly=plotly;});}</script>"
      ]
     },
     "metadata": {},
     "output_type": "display_data"
    }
   ],
   "source": [
    "'''Create interactive plot'''\n",
    "#from plotly import __version__\n",
    "#print( __version__) # requires version >= 3.4.0\n",
    "\n",
    "import plotly\n",
    "plotly.offline.init_notebook_mode(connected=True)\n",
    "import plotly.graph_objs as go\n",
    "from plotly import tools\n",
    "\n",
    "\n",
    "fig = go.FigureWidget()\n",
    "fig = tools.make_subplots(rows=2, cols=1, print_grid=False)\n",
    "\n",
    "layout = go.Layout(title='Point-Reactor Model', \n",
    "         xaxis={'title':'Time [s]'}, \n",
    "         yaxis=dict(side='left',title='$n/n_0$',anchor='x'),\n",
    "         xaxis2={'title':'Time [s]'}, \n",
    "         yaxis2=dict(side='left',title='$c_i/c_{i_0}',anchor='x2'),\n",
    "                )\n",
    "\n",
    "fig.layout.titlefont.size = 22\n",
    "fig.layout.titlefont.family = 'Rockwell'"
   ]
  },
  {
   "cell_type": "code",
   "execution_count": 21,
   "metadata": {
    "code_folding": [
     27,
     40
    ]
   },
   "outputs": [
    {
     "data": {
      "application/vnd.jupyter.widget-view+json": {
       "model_id": "82c6d8ec72c54b57a8af36219ebe4127",
       "version_major": 2,
       "version_minor": 0
      },
      "text/plain": [
       "interactive(children=(FloatSlider(value=50.0, description='$t_{max}\\\\,[\\\\text{s}]$', max=500.0, min=1.0, reado…"
      ]
     },
     "metadata": {},
     "output_type": "display_data"
    }
   ],
   "source": [
    "'''Vary number of modes'''\n",
    "\n",
    "from ipywidgets import interact\n",
    "import ipywidgets as widgets\n",
    "@interact(time_final=widgets.FloatSlider(description=r'$t_{max}\\,[\\text{s}]$',value=50,min=1,max=500,step=10,readout_format='3.0f'),\n",
    "          rho_over_beta=widgets.FloatSlider(description=r'$\\rho/\\beta=$',value=0.01,min=-0.1,max=0.6,step=0.01,readout_format='5.3f'), \n",
    "          gen_time=widgets.FloatSlider(description=r'$\\ell\\,[\\text{s}]=$',value=1e-4,min=1e-8,max=1e-3,step=1e-5,readout_format='5.3e'),\n",
    "          alpha_n=widgets.FloatSlider(description=r'$\\alpha_n\\,[\\text{cm}^3]=$',value=-1e-2,min=-1e-1,max=1e-3,step=1e-5,readout_format='5.3e'),\n",
    "          select=widgets.Dropdown(description='select:',value='Neutron Dens.',options=['Neutron Dens.', 'Delayed-Neutron Precur.','All']) \n",
    "         )\n",
    "def update(time_final, rho_over_beta, gen_time, alpha_n, select):\n",
    "    with fig.batch_update():\n",
    "       \n",
    "        n_time_stamps = params['n_time_stamps']\n",
    "        params['time_final'] = time_final\n",
    "        \n",
    "        time_stamps = np.linspace(0.0, time_final, num=n_time_stamps)\n",
    "        params['time_stamps'] = time_stamps\n",
    "        \n",
    "        beta = params['beta']\n",
    "        params['reactivity'] = rho_over_beta * beta\n",
    "        \n",
    "        params['gen_time']   = gen_time\n",
    "        \n",
    "        params['alpha_n']   = alpha_n\n",
    "        \n",
    "        setup_initial_conditions(params)\n",
    "        \n",
    "        history = run_point_reactor( f_vec, params )\n",
    "        \n",
    "        def plotly_neutron(fig,row=1):\n",
    "            scatt = fig.add_scatter(name='$n/n_0$',mode='lines')\n",
    "            scatt.x = time_stamps\n",
    "            scatt.y = history[:,0]/params['n_0']\n",
    "            scatt.xaxis='x'\n",
    "            scatt.yaxis='y'\n",
    "            scatt.line.color='red'\n",
    "            fig.append_trace(scatt, row, 1) \n",
    "            fig['layout']['xaxis'].update(title='Time [s]', showgrid=True)\n",
    "            fig['layout']['yaxis'].update(title='$n/n_0$', showgrid=True)\n",
    "            fig['layout'].update(title='Point-Reactor Model Neutron Density')  \n",
    "            return\n",
    "        \n",
    "        def plotly_precursors(fig,row=1):\n",
    "            \n",
    "            if row == 1:\n",
    "                xaxis = 'xaxis'\n",
    "                yaxis = 'yaxis'\n",
    "            elif row == 2:\n",
    "                xaxis = 'xaxis2'\n",
    "                yaxis = 'yaxis2'\n",
    "            else:\n",
    "                assert False\n",
    "            \n",
    "            import matplotlib.pyplot as plt\n",
    "            color_ids = np.linspace(0,1,u_vec_history[:,1:].shape[1])\n",
    "            \n",
    "            for (j,color_id) in zip( range(u_vec_history[:,1:].shape[1]), color_ids ):\n",
    "                color = plt.cm.nipy_spectral(color_id)\n",
    "                red_channel   = str(int(color[0]*255))\n",
    "                green_channel = str(int(color[1]*255))\n",
    "                blue_channel  = str(int(color[2]*255))\n",
    "                color ='rgb('+red_channel+','+green_channel+','+blue_channel+')'\n",
    "                label ='$c_%i/c_{%i_0}$'%(j+1,j+1)\n",
    "                scatt = fig.add_scatter(name=label,mode='lines')\n",
    "                scatt.line.color = color\n",
    "                scatt.x = time_stamps\n",
    "                scatt.y = u_vec_history[:,j+1]/params['c_vec_0'][j]\n",
    "                \n",
    "                if row==1:\n",
    "                    scatt.xaxis='x'\n",
    "                    scatt.yaxis='y'\n",
    "                elif row==2:\n",
    "                    scatt.xaxis='x2'\n",
    "                    scatt.yaxis='y2'\n",
    "                else:\n",
    "                    assert False, 'not available.'\n",
    "                    \n",
    "                fig.append_trace(scatt, row, 1)\n",
    "                fig['layout'].update(title='Delayed-Neutron Precursors')\n",
    "                fig['layout'][xaxis].update(title='Time [s]', showgrid=True)\n",
    "                fig['layout'][yaxis].update(title=r'$c_i/c_{i_0}$', showgrid=True)\n",
    "                fig['layout'].update(title='Point-Reactor Model Delayed-Neutron Precursors')\n",
    "            return\n",
    "               \n",
    "        if select == 'Neutron Dens.':\n",
    "            fig.data = [] # clear the data stack          \n",
    "            plotly_neutron(fig,row=1)\n",
    "            \n",
    "        elif select == 'Delayed-Neutron Precur.':\n",
    "            fig.data = [] # clear the data stack\n",
    "            plotly_precursors(fig,row=1)\n",
    "\n",
    "        elif select == 'All':\n",
    "            fig.data = [] # clear the data stack\n",
    "            plotly_neutron(fig,row=1)\n",
    "            plotly_precursors(fig,row=2)\n",
    "  \n",
    "        else:\n",
    "            assert False, 'no other option; bail out'\n",
    "            \n",
    "    fig['layout'].update(height=900, width=950) \n",
    "    \n",
    "    plotly.offline.iplot(fig)\n",
    "    \n",
    "    return\n",
    "\n",
    "#plotly.offline.plot(fig, include_plotlyjs=False, output_type='div')"
   ]
  },
  {
   "cell_type": "code",
   "execution_count": null,
   "metadata": {},
   "outputs": [],
   "source": []
  }
 ],
 "metadata": {
  "kernelspec": {
   "display_name": "Python 3",
   "language": "python",
   "name": "python3"
  },
  "language_info": {
   "codemirror_mode": {
    "name": "ipython",
    "version": 3
   },
   "file_extension": ".py",
   "mimetype": "text/x-python",
   "name": "python",
   "nbconvert_exporter": "python",
   "pygments_lexer": "ipython3",
   "version": "3.7.1"
  },
  "latex_envs": {
   "LaTeX_envs_menu_present": true,
   "autoclose": false,
   "autocomplete": true,
   "bibliofile": "biblio.bib",
   "cite_by": "apalike",
   "current_citInitial": 1,
   "eqLabelWithNumbers": true,
   "eqNumInitial": 1,
   "hotkeys": {
    "equation": "Ctrl-E",
    "itemize": "Ctrl-I"
   },
   "labels_anchors": false,
   "latex_user_defs": false,
   "report_style_numbering": false,
   "user_envs_cfg": false
  }
 },
 "nbformat": 4,
 "nbformat_minor": 2
}
