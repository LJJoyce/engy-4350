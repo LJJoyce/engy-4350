{
 "cells": [
  {
   "cell_type": "markdown",
   "metadata": {},
   "source": [
    "Engy-4350: Nuclear Reaction Engineering Sprint 2019 UMass Lowell; Prof. V. F. de Almeida **19Feb2019**\n",
    "\n",
    "# Homework 02 19Feb2019"
   ]
  },
  {
   "cell_type": "markdown",
   "metadata": {},
   "source": [
    "### Name: `your name`"
   ]
  },
  {
   "cell_type": "markdown",
   "metadata": {},
   "source": [
    "### Rubric for each assignment: \n",
    "\n",
    "|      Context                       |  Points |\n",
    "| -----------------------     | ------- |\n",
    "| Precision of the answer     |   80%   |\n",
    "| Answer Markdown readability |   10%   |\n",
    "| Code readability            |   10%   |\n",
    "    "
   ]
  },
  {
   "cell_type": "markdown",
   "metadata": {},
   "source": [
    "### <span style=\"color:red\">Guidance:</span>\n",
    " +  <span style=\"color:red\"> \n",
    "    Save your work frequently to a file locally to your computer.\n",
    "    </span>\n",
    " +  <span style=\"color:red\">\n",
    "    During your work and before submitting the final version do: `Kernel` -> `Restart & Run All`, to verify your notebook runs correctly.\n",
    "    </span>\n",
    " +  <span style=\"color:red\">\n",
    "    Save your file again.\n",
    "    </span>"
   ]
  },
  {
   "cell_type": "markdown",
   "metadata": {},
   "source": [
    "## <span style=\"color:blue\">Assignment 1 (50 pts).</span>\n",
    "\n",
    "### <span style=\"color:blue\">Provide a list of $^{239}$Pu thermal fission products (specific nuclides, *i.e.* element, and mass number) with yield greater than or equal to 1% for half-lifes between 1 year and 50 million years. Organize your results in a table with half-life periods: 1 to 10 years, 10 to 100 years, 100 to 1k years, 1k to 1M years, 1M to 10M years, and 10M to 50M years.\n",
    "</span>"
   ]
  },
  {
   "cell_type": "code",
   "execution_count": 11,
   "metadata": {},
   "outputs": [
    {
     "name": "stdout",
     "output_type": "stream",
     "text": [
      "#ZVView-data-copy: 5-Mar-2019 13:25:10\n",
      "------------------------------------------------------------------------\n",
      "#\n",
      "#FPYC,Pu-239,ENDF/B-VIII.0,Ei=0.0253eV\n",
      "Z(107x49): Z_i,j = Cor(?_Xi ,?_Yj )*100\n",
      "  \tX(NO-DIM)\n",
      "Y(NO-DIM) \t66\t67\t68\t69\t70\t71\t72\t73\t74\t75\t76\t77\t78\t79\t80\t81\t82\n",
      "83\t84\t85\t86\t87\t88\t89\t90\t91\t92\t93\t94\t95\t96\t97\t98\t99\t100\t101\t102\t103\n",
      "...\n",
      "72 \t0\t0\t0\t0\t0\t0\t0\t0\t0\t0\t0\t0\t0\t0\t0\t0\t0\t0\t0\t0\t0\t0\t0\t0\t0\t0\t0\t0\t0\t0\t0\t0\t0\t0\t0\t0 0\t0\t0\t0\t0\t0\t0\t0\t0\t0\t0\t0\t0\t0\t0\t0\t0\t0\t0\t0\t0\t0\t0\t0\t0\t0\t0\t0\t0\t0\t0\t0\t0\t0\t0\t0\t0\t0 0\t0\t0\t0\t0\t0\t0\t0\t0\t0\t0\t0\t0\t0\t0\t0\t0\t0\t0\t0\t0\t0\t0\t0\t0\t0\t0\t0\t0\t0\t0\t0\t0\t49\n"
     ]
    }
   ],
   "source": [
    "'''View the raw data'''\n",
    "!head -n 8 data/Pu-239-cfpy-AZ-thermal.dat\n",
    "print('...')\n",
    "!tail -n 1 data/Pu-239-cfpy-AZ-thermal.dat"
   ]
  },
  {
   "cell_type": "code",
   "execution_count": 17,
   "metadata": {
    "code_folding": [
     2
    ]
   },
   "outputs": [],
   "source": [
    "'''Function to read the blank-spaced column data into a Pandas data frame (table)'''\n",
    "\n",
    "def read_table(file_name):\n",
    "    '''\n",
    "    Read table data into a `pandas` data frame (table).  \n",
    "    \n",
    "    Parameters\n",
    "    ----------\n",
    "    file_name: str, required\n",
    "        File name and its path relative to this notebook.\n",
    "    \n",
    "    Returns\n",
    "    -------\n",
    "    df: pandas.df\n",
    "        `Pandas` data frame (table).\n",
    "\n",
    "    Examples\n",
    "    --------\n",
    "    '''\n",
    "    import pandas as pd\n",
    "    \n",
    "    df = pd.read_csv( file_name,  \n",
    "                      skiprows=6,\n",
    "                      delim_whitespace=True)\n",
    "    \n",
    "# to avoid frustrations, set explicitly the data types of each column\n",
    "    for c in df.columns: \n",
    "        if c == 'Y(NO-DIM)':\n",
    "            continue\n",
    "        df = df.astype({c:float},copy=False)\n",
    "\n",
    "    #print(df.dtypes)\n",
    "    return df"
   ]
  },
  {
   "cell_type": "code",
   "execution_count": 18,
   "metadata": {},
   "outputs": [],
   "source": [
    "'''Read data'''\n",
    "\n",
    "cfpy_az_df = read_table('data/Pu-239-cfpy-AZ-thermal.dat')"
   ]
  },
  {
   "cell_type": "code",
   "execution_count": 19,
   "metadata": {
    "code_folding": [
     2
    ]
   },
   "outputs": [],
   "source": [
    "'''Function for creating a FP yield(A,Z) list container'''\n",
    "\n",
    "def get_fpy_az( df ):\n",
    "    '''\n",
    "    Create a list of named tuple nuclides\n",
    "    Parameters\n",
    "    ----------\n",
    "    df: pandas data frame, required\n",
    "        Table of data for nuclides.\n",
    "    \n",
    "    Returns\n",
    "    -------\n",
    "    nuclides: list(namedtuple)\n",
    "        List of namedtuples. Names: name, element_name, Z, A, yield_percent.\n",
    "\n",
    "    Examples\n",
    "    --------\n",
    "    '''\n",
    "    \n",
    "    nuclides = list()\n",
    "\n",
    "    # design a container data structure\n",
    "    from collections import namedtuple\n",
    "    FPY = namedtuple('FPY', ['name','element_name','Z','A','yield_percent'])\n",
    "\n",
    "    import pandas as pd\n",
    "\n",
    "    # Use the Mendeleev python package (periodic table of elements)\n",
    "    from mendeleev import element\n",
    "    \n",
    "    total_yield = 0.0 # sum total yield\n",
    "    for row in df.itertuples(index=False):\n",
    "        z = int(row[0])\n",
    "        for j in range(1,len(row)-1):\n",
    "            if row[j] < 1.e-10: # this will eliminate many zeros\n",
    "                continue\n",
    "            a_str = df.columns[j] # index column is not part of the columns\n",
    "            symbol = element(z).symbol\n",
    "            name = name=symbol+'-'+a_str\n",
    "            element_name = element(z).name\n",
    "            yield_value = row[j]\n",
    "            total_yield += yield_value\n",
    "            nuc = FPY( name=name, element_name=element_name, Z=z, A=int(a_str), yield_percent=yield_value )\n",
    "        \n",
    "            nuclides.append(nuc)\n",
    "            \n",
    "    print('Sum of yield values in data file = ',round(total_yield,2))\n",
    "    return nuclides"
   ]
  },
  {
   "cell_type": "code",
   "execution_count": 20,
   "metadata": {},
   "outputs": [
    {
     "name": "stdout",
     "output_type": "stream",
     "text": [
      "Sum of yield values in data file =  792.3\n",
      "Sum of yield values in dictionary container =  792.3\n",
      "# of FP nuclides =  815\n"
     ]
    }
   ],
   "source": [
    "'''Create the FP yield(A,Z) list container'''\n",
    "\n",
    "cfpy_az = get_fpy_az( cfpy_az_df )\n",
    "print('Sum of yield values in dictionary container = ',round(sum([fp.yield_percent for fp in cfpy_az]),2))\n",
    "print('# of FP nuclides = ', len(cfpy_az))"
   ]
  },
  {
   "cell_type": "markdown",
   "metadata": {},
   "source": [
    "## <span style=\"color:blue\">Assignment 2 (50 pts).</span>\n",
    "### <span style=\"color:blue\">Provide a list of $^{233}$U thermal fission products (specific nuclides, *i.e.* element, and mass number) with yield greater than or equal to 1% for half-lifes between 1 year and 50 million years. Organize your results in a table with half-life periods: 1 to 10 years, 10 to 100 years, 100 to 1k years, 1k to 1M years, 1M to 10M years, 10M to 50M years.\n",
    "</span>"
   ]
  },
  {
   "cell_type": "markdown",
   "metadata": {},
   "source": [
    "Refer to Notebook 02b"
   ]
  }
 ],
 "metadata": {
  "kernelspec": {
   "display_name": "Python 3",
   "language": "python",
   "name": "python3"
  },
  "language_info": {
   "codemirror_mode": {
    "name": "ipython",
    "version": 3
   },
   "file_extension": ".py",
   "mimetype": "text/x-python",
   "name": "python",
   "nbconvert_exporter": "python",
   "pygments_lexer": "ipython3",
   "version": "3.7.1"
  },
  "latex_envs": {
   "LaTeX_envs_menu_present": true,
   "autoclose": false,
   "autocomplete": true,
   "bibliofile": "biblio.bib",
   "cite_by": "apalike",
   "current_citInitial": 1,
   "eqLabelWithNumbers": true,
   "eqNumInitial": 1,
   "hotkeys": {
    "equation": "Ctrl-E",
    "itemize": "Ctrl-I"
   },
   "labels_anchors": false,
   "latex_user_defs": false,
   "report_style_numbering": false,
   "user_envs_cfg": false
  }
 },
 "nbformat": 4,
 "nbformat_minor": 2
}
