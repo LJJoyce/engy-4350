{
 "cells": [
  {
   "cell_type": "markdown",
   "metadata": {},
   "source": [
    "Engy-4350: Nuclear Reactor Engineering Spring 2019 UMass Lowell; Prof. V. F. de Almeida **03Feb2019**\n",
    "\n",
    "# 02. Nuclear Data and Data Processing \n",
    "$  \n",
    "  \\newcommand{\\Amtrx}{\\boldsymbol{\\mathsf{A}}}\n",
    "  \\newcommand{\\Bmtrx}{\\boldsymbol{\\mathsf{B}}}\n",
    "  \\newcommand{\\Mmtrx}{\\boldsymbol{\\mathsf{M}}}\n",
    "  \\newcommand{\\Imtrx}{\\boldsymbol{\\mathsf{I}}}\n",
    "  \\newcommand{\\Pmtrx}{\\boldsymbol{\\mathsf{P}}}\n",
    "  \\newcommand{\\Lmtrx}{\\boldsymbol{\\mathsf{L}}}\n",
    "  \\newcommand{\\Umtrx}{\\boldsymbol{\\mathsf{U}}}\n",
    "  \\newcommand{\\Smtrx}{\\boldsymbol{\\mathsf{S}}}\n",
    "  \\newcommand{\\xvec}{\\boldsymbol{\\mathsf{x}}}\n",
    "  \\newcommand{\\uvar}{\\boldsymbol{u}}\n",
    "  \\newcommand{\\fvar}{\\boldsymbol{f}}\n",
    "  \\newcommand{\\avec}{\\boldsymbol{\\mathsf{a}}}\n",
    "  \\newcommand{\\bvec}{\\boldsymbol{\\mathsf{b}}}\n",
    "  \\newcommand{\\cvec}{\\boldsymbol{\\mathsf{c}}}\n",
    "  \\newcommand{\\rvec}{\\boldsymbol{\\mathsf{r}}}\n",
    "  \\newcommand{\\mvec}{\\boldsymbol{\\mathsf{m}}}\n",
    "  \\newcommand{\\gvec}{\\boldsymbol{\\mathsf{g}}}\n",
    "  \\newcommand{\\zerovec}{\\boldsymbol{\\mathsf{0}}}\n",
    "  \\newcommand{\\norm}[1]{\\bigl\\lVert{#1}\\bigr\\rVert}\n",
    "  \\newcommand{\\transpose}[1]{{#1}^\\top}\n",
    "  \\DeclareMathOperator{\\rank}{rank}\n",
    "  \\newcommand{\\Power}{\\mathcal{P}}\n",
    "$"
   ]
  },
  {
   "cell_type": "markdown",
   "metadata": {},
   "source": [
    "---\n",
    "## Table of Contents\n",
    "* [Objectives](#obj)\n",
    "* [Introduction](#intro)\n",
    "* [Radiative capture cross section example](#xs1)\n",
    "* [Beta decay example](#beta1)\n",
    "\n",
    "---"
   ]
  },
  {
   "cell_type": "markdown",
   "metadata": {},
   "source": [
    "## Objectives<a id=\"obj\"></a>\n",
    "+ Demonstrate how to obtain traceable nuclear data and have them available through the notebook for analysis and problem solving."
   ]
  },
  {
   "cell_type": "markdown",
   "metadata": {},
   "source": [
    "## Introduction<a id=\"intro\"></a>\n",
    "\n",
    "Many nuclear data sets are availale through the US [National Nuclear Data Center](https://www.nndc.bnl.gov/). Some important sites are as follows:\n",
    "\n",
    "+ [Interactive chart of nuclides](https://www.nndc.bnl.gov/nudat2/).\n",
    "+ [Nuclide energy level and $\\gamma$ emission](https://www.nndc.bnl.gov/nudat2/indx_adopted.jsp).\n",
    "+ [Nuclear wallet card](https://www.nndc.bnl.gov/nudat2/indx_sigma.jsp).\n",
    "+ [Decay radiation search](https://www.nndc.bnl.gov/nudat2/indx_dec.jsp)\n",
    "+ [Q-value calculator](https://www.nndc.bnl.gov/qcalc/) (difference of kinetic energy of products and reactant particles in a nuclear reaction, *i.e.* energy release).\n",
    "+ [Atomic mass evaluator](http://amdc.impcas.ac.cn/web/masseval.html).\n",
    "+ [Evaluated nuclear data file (ENDF)](https://www.nndc.bnl.gov/exfor/endf00.jsp).\n",
    "+ [Cross sections](https://www.nndc.bnl.gov/sigma/index.jsp) for many nuclear reactions.\n",
    "\n",
    "Similarly from [IAEA](https://www-nds.iaea.org/) Nuclear Data Services. Some important sites are as follows:\n",
    "\n",
    "+ [Live chart of nuclides](https://www-nds.iaea.org/relnsd/vcharthtml/VChartHTML.html)\n",
    "+ [Search engine](https://www-nds.iaea.org/relnsd/NdsEnsdf/QueryForm.html)\n",
    "\n",
    "In addition from France's [LNHB](http://www.lnhb.fr/nuclear-data/nuclear-data-table/):\n"
   ]
  },
  {
   "cell_type": "markdown",
   "metadata": {},
   "source": [
    "## Radiative capture cross section $(n,\\gamma)$ example<a id=\"xs1\"></a>\n",
    "This is a significant capture reaction emitting a prompt *capture* gamma ray\n",
    "\n",
    "\\begin{equation*}\n",
    "^1_0\\text{n} \\ + \\  ^{235}_{92}\\text{U} \\longrightarrow \\ ^{236}_{92}\\text{U}^* \\overset{\\approx 10^{-14}\\,\\text{s}}{\\longrightarrow} \\ ^{236}_{92}\\text{U} \\ + \\ \\gamma    ,\n",
    "\\end{equation*}\n",
    "\n",
    "Note: \n",
    "+ a) over much of the neutron energy range in a nuclear reactor this is the only possible parasitic reaction that influences neutron balance; \n",
    "+ b) often this reaction is the dominat source of radiation heating and bulk shielding in the reactor vessel; \n",
    "+ c) the product nuclide is often unstable, decaying via beta emission and delayed gamma rays; the latter continues for years after reactor shutdown.\n",
    "\n",
    "\n",
    "\n",
    "Acquiring cross section data and saving it to a file:\n",
    "\n",
    " + Using the [cross section data site](https://www.nndc.bnl.gov/sigma/index.jsp) click on U in the periodic table and choose $^{235}_{92}$U from the isotope list. \n",
    " + Select the neutron capture reaction cross section $^{235}_{92}$U(n,$\\gamma$) and plot the data. \n",
    " + Choose `view evaluated data` and click on the `Text` link to view the data in a two-column arrangement (energy versus cross section). \n",
    " + Using the browser, save data to a text file (`u-235-sigma-c.dat`). Relocate the file in a directory `data/` relative to this notebook."
   ]
  },
  {
   "cell_type": "code",
   "execution_count": null,
   "metadata": {},
   "outputs": [],
   "source": [
    "'''View the raw data'''\n",
    "!cat data/u-235-sigma-g.dat"
   ]
  },
  {
   "cell_type": "markdown",
   "metadata": {},
   "source": [
    "Importing and processing tabular data is readily done using the Pandas Python Package:\n",
    " + [Pandas documentation](https://pandas.pydata.org/)."
   ]
  },
  {
   "cell_type": "code",
   "execution_count": 19,
   "metadata": {},
   "outputs": [
    {
     "data": {
      "image/png": "[encoded data removed]",
      "text/plain": [
       "<Figure size 432x288 with 1 Axes>"
      ]
     },
     "metadata": {},
     "output_type": "display_data"
    }
   ],
   "source": [
    "'''Visualize the data'''\n",
    "\n",
    "# Pandas: python package for tabular data analysis\n",
    "import pandas as pd\n",
    "\n",
    "# read the data into a data frame (or table)\n",
    "df = pd.read_csv('data/u-235-sigma-g.dat', \n",
    "                  names=['energy [eV]','sigma_g [b]'], \n",
    "                  skiprows=3)\n",
    "\n",
    "#print(df) # uncomment for a screen output of the data\n",
    "\n",
    "# plot the data directly from Pandas\n",
    "ax = df.plot(loglog=True, x='energy [eV]', y='sigma_g [b]',legend=False,\n",
    "             title='Capture $\\sigma_\\gamma$ for $^{235}_{92}$U(n,$\\gamma$)')\n",
    "ax.set(ylabel='$\\sigma_\\gamma$ [b]')\n",
    "ax.grid()"
   ]
  },
  {
   "cell_type": "markdown",
   "metadata": {},
   "source": [
    "Using the [IAEA search engine](https://www-nds.iaea.org/relnsd/NdsEnsdf/QueryForm.html) obtain the radius of the nucleus of $^{235}_{92}$U to be $r=5.8337$ fm. Calculate the cross sectional area of the nucleus and compare with the radiative cross section in the plot."
   ]
  },
  {
   "cell_type": "code",
   "execution_count": 21,
   "metadata": {},
   "outputs": [
    {
     "name": "stdout",
     "output_type": "stream",
     "text": [
      "nucleus cross section area [b] = 1.06915\n"
     ]
    }
   ],
   "source": [
    "import math\n",
    "r = 5.8337\n",
    "area = math.pi * r**2\n",
    "print('nucleus cross section area [b] = %5.5f'%(area/100)) # 1 barn = 100 fm^2"
   ]
  },
  {
   "cell_type": "markdown",
   "metadata": {},
   "source": [
    "From the radiative capture cross section data (plot): $\\sigma_g = 101.153$ b at $E=2.4\\, 10^{-2}$ eV. Therefore the geometric cross section of the nucleus is 1/100 of the capture reaction cross section."
   ]
  },
  {
   "cell_type": "markdown",
   "metadata": {},
   "source": [
    "## $\\beta^-$ decay example<a id=\"beta1\"></a>\n",
    "This is an electron ejected from the nucleus by a neutron to proton transformation via several different nuclear transitions. The transformation is mediated by the weak nuclear forces. This disintegration is often followed by secondary phenomena accompanying the nuclear transition, *e.g.*, \n",
    " + internal bremsstrahlung photon energy (shared by the beta and anti-neutrino particles) due to a slowed down electron in the field of the nucleus,\n",
    " + internal ionization and excitation of the nucleus due to a sudden change of charge causes the emission of an orbital electron (an energy conversion electron).\n",
    " + the orbital vacancy is filled in by a cascade of electrons from higher orbital which leads to the emission of x-rays.\n",
    " + the energy of the vacancy is passed to higher orbital electrons and a valence electron is ejected called an Auger electron.\n",
    " \n",
    " Each one has a unique *endpoint energy*, the maximum kinetic energy of the electron or $\\beta^-$ particle.\n",
    "\n",
    "\\begin{equation*}\n",
    " ^{90}_{39}\\text{Y} \\overset{64.2\\,\\text{h}}{\\longrightarrow} \\ ^{90}_{40}\\text{Zr}^+ \\ + \\beta^- (^0_{-1}e) \\ +\\  \\ \\overline{\\nu}_e    ,\n",
    "\\end{equation*}\n",
    "\n",
    "+ Using the [decay radiation search site](https://www.nndc.bnl.gov/nudat2/indx_dec.jsp) search for $^{90}_{39}$Y.\n",
    "+ Use the standard style for uncertainty.\n",
    "+ On the window result look for the ground-state data set.\n",
    "+ View the HTML page source, copy the contents and paste into a Markdown cell below."
   ]
  },
  {
   "cell_type": "markdown",
   "metadata": {},
   "source": [
    "<p><u>Dataset #3:</u>\n",
    "<p><u>Author</u>:\n",
    "E. Browne&nbsp;&nbsp;\n",
    "<u>Citation</u>:Nuclear Data Sheets  82, 379 (1997)\n",
    "<p><table border=0 cellspacing=1 cellpadding=2 bgcolor=navy><tr><td align=center valign=center class=shead>Parent <br> Nucleus</td><td align=center valign=center class=shead>Parent <br> E(level)</td><td align=center valign=center class=shead>Parent <br> J&pi;</td><td align=center valign=center class=shead>Parent <br> T<sub>1/2</sub></td><td align=center valign=center class=shead>Decay Mode&nbsp;</td><td align=center valign=center class=shead>GS-GS Q-value <br> (keV) </td><td align=center valign=center class=shead>Daughter <br> Nucleus</td><td nowrap align=center rowspan=2 class=shead>&nbsp; </td><td nowrap align=center rowspan=2 class=shead>&nbsp; </td></tr>\n",
    "<tr><td nowrap align=center bgcolor=white><table border=0 cellspacing=0 cellpadding=0><tr><td class=su align=right>90<br>39</td><td>Y</td></tr></table></td><td nowrap align=center class=align bgcolor=white> &nbsp;0<i></i> &nbsp; </td><td nowrap align=center class=align bgcolor=white> &nbsp;2-&nbsp; </td><td nowrap align=center class=align bgcolor=white> &nbsp;64.00 h <i>0.21</i>&nbsp;&nbsp; </td><td nowrap align=center class=align bgcolor=white> &nbsp;&beta;<sup>-</sup>: 100 <i>  </i>  %&nbsp; </td><td nowrap align=center class=align bgcolor=white> &nbsp;2280.1&nbsp;<i>1.6&nbsp; </td><td nowrap align=center class=align bgcolor=white> &nbsp;<table border=0 cellspacing=0 cellpadding=0><tr><td class=su align=right>90<br>40</td><td>Zr</td></tr></table>&nbsp; </td></tr></table>\n",
    "<p><u>Beta-</u>:\n",
    "<p><table border=0 cellspacing=4 cellpadding=2>\n",
    "<tr>\n",
    "<td align=center class=align>Energy <br> (keV)</td>\n",
    "<td align=center class=align>End-point energy <br> (keV)</td>\n",
    "<td align=center class=align>Intensity <br> (%)</td>\n",
    "<td align=center class=align>Dose <br>( MeV/Bq-s )</td>\n",
    "</tr>\n",
    "<tr>\n",
    "<td align=center><hr color=\"#bfbfbf\" size=1 noshade></td>\n",
    "<td align=center><hr color=\"#bfbfbf\" size=1 noshade></td>\n",
    "<td align=center><hr color=\"#bfbfbf\" size=1 noshade></td>\n",
    "<td align=center><hr color=\"#bfbfbf\" size=1 noshade></td>\n",
    "</tr>\n",
    "<tr>\n",
    "<td nowrap align=left class=align>&nbsp;&nbsp;&nbsp;&nbsp;25.0 <i>0.7</i>&nbsp; </td>\n",
    "<td nowrap align=left class=align>&nbsp;&nbsp;&nbsp;93.8 <i>1.6</i>&nbsp;</td>\n",
    "<td nowrap align=left class=align>&nbsp;&nbsp;&nbsp;&nbsp;&nbsp;1.4E-6 % <i>0.3E-6</i>&nbsp;</td>\n",
    "<td nowrap align=left class=align>&nbsp;&nbsp;3.5E-10 <i>0.8E-10</i>&nbsp;</td>\n",
    "</tr>\n",
    "<tr>\n",
    "<td nowrap align=left class=align>&nbsp;&nbsp;&nbsp;185.6 <i>1</i>&nbsp; </td>\n",
    "<td nowrap align=left class=align>&nbsp;&nbsp;519.4 <i>1.6</i>&nbsp;</td>\n",
    "<td nowrap align=left class=align>&nbsp;&nbsp;&nbsp;&nbsp;&nbsp;0.0115 % <i>0.0014</i>&nbsp;</td>\n",
    "<td nowrap align=left class=align>&nbsp;&nbsp;2.1E-5 <i>0.3E-5</i>&nbsp;</td>\n",
    "</tr>\n",
    "<tr>\n",
    "<td nowrap align=left class=align>&nbsp;&nbsp;&nbsp;933.7 <i>1.2</i>&nbsp; </td>\n",
    "<td nowrap align=left class=align>&nbsp;2280.1 <i>1.6</i>&nbsp;</td>\n",
    "<td nowrap align=left class=align>&nbsp;&nbsp;&nbsp;&nbsp;99.9885 % <i>0.0014</i>&nbsp;</td>\n",
    "<td nowrap align=left class=align>&nbsp;&nbsp;0.9336 <i>0.0012</i>&nbsp;</td>\n",
    "</tr>\n",
    "</table>\n",
    "<p><br>"
   ]
  },
  {
   "cell_type": "code",
   "execution_count": null,
   "metadata": {},
   "outputs": [],
   "source": [
    "933.7 / 2280"
   ]
  },
  {
   "cell_type": "markdown",
   "metadata": {},
   "source": [
    "$\\left<E\\right> = 0.41\\,E^{(max)}$"
   ]
  },
  {
   "cell_type": "code",
   "execution_count": null,
   "metadata": {},
   "outputs": [],
   "source": []
  }
 ],
 "metadata": {
  "kernelspec": {
   "display_name": "Python 3",
   "language": "python",
   "name": "python3"
  },
  "language_info": {
   "codemirror_mode": {
    "name": "ipython",
    "version": 3
   },
   "file_extension": ".py",
   "mimetype": "text/x-python",
   "name": "python",
   "nbconvert_exporter": "python",
   "pygments_lexer": "ipython3",
   "version": "3.6.5"
  },
  "latex_envs": {
   "LaTeX_envs_menu_present": true,
   "autoclose": false,
   "autocomplete": true,
   "bibliofile": "biblio.bib",
   "cite_by": "apalike",
   "current_citInitial": 1,
   "eqLabelWithNumbers": true,
   "eqNumInitial": 1,
   "hotkeys": {
    "equation": "Ctrl-E",
    "itemize": "Ctrl-I"
   },
   "labels_anchors": false,
   "latex_user_defs": false,
   "report_style_numbering": false,
   "user_envs_cfg": false
  }
 },
 "nbformat": 4,
 "nbformat_minor": 2
}
