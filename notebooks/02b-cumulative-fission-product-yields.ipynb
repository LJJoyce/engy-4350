{
 "cells": [
  {
   "cell_type": "markdown",
   "metadata": {},
   "source": [
    "Engy-4350: Nuclear Reactor Engineering Spring 2019 UMass Lowell; Prof. V. F. de Almeida **03Feb2019**\n",
    "\n",
    "# 02b. Nuclear Data and Data Processing: Cumulative Fission Product Yields \n",
    "$  \n",
    "  \\newcommand{\\Amtrx}{\\boldsymbol{\\mathsf{A}}}\n",
    "  \\newcommand{\\Bmtrx}{\\boldsymbol{\\mathsf{B}}}\n",
    "  \\newcommand{\\Mmtrx}{\\boldsymbol{\\mathsf{M}}}\n",
    "  \\newcommand{\\Imtrx}{\\boldsymbol{\\mathsf{I}}}\n",
    "  \\newcommand{\\Pmtrx}{\\boldsymbol{\\mathsf{P}}}\n",
    "  \\newcommand{\\Lmtrx}{\\boldsymbol{\\mathsf{L}}}\n",
    "  \\newcommand{\\Umtrx}{\\boldsymbol{\\mathsf{U}}}\n",
    "  \\newcommand{\\Smtrx}{\\boldsymbol{\\mathsf{S}}}\n",
    "  \\newcommand{\\xvec}{\\boldsymbol{\\mathsf{x}}}\n",
    "  \\newcommand{\\avec}{\\boldsymbol{\\mathsf{a}}}\n",
    "  \\newcommand{\\bvec}{\\boldsymbol{\\mathsf{b}}}\n",
    "  \\newcommand{\\cvec}{\\boldsymbol{\\mathsf{c}}}\n",
    "  \\newcommand{\\rvec}{\\boldsymbol{\\mathsf{r}}}\n",
    "  \\newcommand{\\mvec}{\\boldsymbol{\\mathsf{m}}}\n",
    "  \\newcommand{\\gvec}{\\boldsymbol{\\mathsf{g}}}\n",
    "  \\newcommand{\\zerovec}{\\boldsymbol{\\mathsf{0}}}\n",
    "  \\newcommand{\\norm}[1]{\\bigl\\lVert{#1}\\bigr\\rVert}\n",
    "  \\newcommand{\\abs}[1]{\\left\\lvert{#1}\\right\\rvert}\n",
    "  \\newcommand{\\transpose}[1]{{#1}^\\top}\n",
    "  \\DeclareMathOperator{\\rank}{rank}\n",
    "$"
   ]
  },
  {
   "cell_type": "markdown",
   "metadata": {},
   "source": [
    "---\n",
    "## Table of Contents\n",
    "* [Objectives](#obj)\n",
    "* [Introduction](#intro)\n",
    "* [Cumulative (Decayed) fission fragment yield (A,Z)](#cffyaz)\n",
    "* [Half-life time of nuclides data](#halflife)\n",
    "* [Cumulative fission products half-life times](#cfphalflife)\n",
    "---"
   ]
  },
  {
   "cell_type": "markdown",
   "metadata": {},
   "source": [
    "## Objectives<a id=\"obj\"></a>\n",
    "+ Demonstrate how to obtain traceable nuclear data and have them available through the notebook for analysis and problem solving.\n",
    "+ Demonstrate how to obtain average values for various quantities related to fission products yield."
   ]
  },
  {
   "cell_type": "markdown",
   "metadata": {},
   "source": [
    "## Introduction<a id=\"intro\"></a>\n",
    "\n",
    "Refer to Notebook 02."
   ]
  },
  {
   "cell_type": "markdown",
   "metadata": {},
   "source": [
    "## Cumulative (decayed) fission fragment yield (A,Z)<a id=\"cffyaz\"></a>\n",
    "\n",
    "Acquiring the data:\n",
    "\n",
    "+ Using the [ENDF](https://www.nndc.bnl.gov/exfor/endf00.jsp) help tab, look for an existing example. In this case follow the `Example 9: 235U, individual and cumulative fission product yields, US library, numerical values`. \n",
    "+ Use the *extended retrieval tab* and provide the input: `Target=u-235, Sub-library (Projectile) = *fpy* and Library=ENDF/B-VII.0`. \n",
    "+ In the new window, select the library and click on `FPY(A)`. \n",
    "+ Select the *independent* (prompt) thermal neutron fission product yield data `FPYC,U-235,ENDF/B-VIII.0,Ei=0.0253eV` and `Repaint` the plot.\n",
    "+ Click on `FY(Z,A) matrix  is [here]` at the bottom of the window.\n",
    "+ Reset the energy level for plotting and `Repaint` the plot.\n",
    "+ Use the browser save option to create a file with the raw data `u-235-cfpy-AZ-thermal.dat`.\n",
    "+ Unfortunately this data file needs to be edited before it can be imported.\n",
    "\n",
    "**Note:**\n",
    "\n",
    "    The cumulative yields include expected amount of products from parent nuclides by (almost $\\beta$) decay, \n",
    "    and the total number is larger than 2. In the case of U-235 fission yields by thermal neutron incidence \n",
    "    in JENDL 4.0 Fission Yield Sub-library, total independent yield is about 2.0 and total cumulative yield \n",
    "    is 8.4.\n",
    "\n",
    "Only decay reactions are taken into account, no additional neutron reaction with fission products or target nucleus is considered."
   ]
  },
  {
   "cell_type": "code",
   "execution_count": 1,
   "metadata": {},
   "outputs": [
    {
     "name": "stdout",
     "output_type": "stream",
     "text": [
      "#ZVView-data-copy: 18-Feb-2019 01:24:17\n",
      "------------------------------------------------------------------------\n",
      "#\n",
      "#FPYC,U-235,ENDF/B-VIII.0,Ei=0.0253eV\n",
      "Z(107x50): Z_i,j = Cor(?_Xi ,?_Yj )*100\n",
      "  \tX(NO-DIM)\n",
      "Y(NO-DIM) \t66\t67\t68\t69\t70\t71\t72\t73\t74\t75\t76\t77\t78\t79\t80\t81\t82 83\t84\t85\t86\t87\t88\t89\t90\t91\t92\t93\t94\t95\t96\t97\t98\t99\t100\t101\t102\t103 104\t105\t106\t107\t108\t109\t110\t111\t112\t113\t114\t115\t116\t117\t118\t119\t120 121\t122\t123\t124\t125\t126\t127\t128\t129\t130\t131\t132\t133\t134\t135\t136\t137 138\t139\t140\t141\t142\t143\t144\t145\t146\t147\t148\t149\t150\t151\t152\t153\t154 155\t156\t157\t158\t159\t160\t161\t162\t163\t164\t165\t166\t167\t168\t169\t170\t171\t172\t/j/\n",
      "23 2.05032e-17\t0\t0\t0\t0\t0\t0\t0\t0\t0\t0\t0\t0\t0\t0\t0\t0\t0\t0\t0\t0\t0\t0\t0\t0\t0\t0\t0\t0\t0\t0\t0\t0 0\t0\t0\t0\t0\t0\t0\t0\t0\t0\t0\t0\t0\t0\t0\t0\t0\t0\t0\t0\t0\t0\t0\t0\t0\t0\t0\t0\t0\t0\t0\t0\t0\t0\t0\t0\t0\t0 0\t0\t0\t0\t0\t0\t0\t0\t0\t0\t0\t0\t0\t0\t0\t0\t0\t0\t0\t0\t0\t0\t0\t0\t0\t0\t0\t0\t0\t0\t0\t0\t0\t0\t0\t0\t1\n",
      "...\n",
      "72 \t0\t0\t0\t0\t0\t0\t0\t0\t0\t0\t0\t0\t0\t0\t0\t0\t0\t0\t0\t0\t0\t0\t0\t0\t0\t0\t0\t0\t0\t0\t0\t0\t0\t0\t0\t0 0\t0\t0\t0\t0\t0\t0\t0\t0\t0\t0\t0\t0\t0\t0\t0\t0\t0\t0\t0\t0\t0\t0\t0\t0\t0\t0\t0\t0\t0\t0\t0\t0\t0\t0\t0\t0\t0 0\t0\t0\t0\t0\t0\t0\t0\t0\t0\t0\t0\t0\t0\t0\t0\t0\t0\t0\t0\t0\t0\t0\t0\t0\t0\t0\t0\t0\t0\t0\t0\t0\t50\n"
     ]
    }
   ],
   "source": [
    "'''View the raw data'''\n",
    "!head -n 8 data/u-235-cfpy-AZ-thermal.dat\n",
    "print('...')\n",
    "!tail -n 1 data/u-235-cfpy-AZ-thermal.dat"
   ]
  },
  {
   "cell_type": "code",
   "execution_count": 2,
   "metadata": {
    "code_folding": [
     2
    ]
   },
   "outputs": [],
   "source": [
    "'''Function to read the blank-spaced column data into a Pandas data frame (table)'''\n",
    "\n",
    "def read_table(file_name):\n",
    "    '''\n",
    "    Read table data into a `pandas` data frame (table).  \n",
    "    \n",
    "    Parameters\n",
    "    ----------\n",
    "    file_name: str, required\n",
    "        File name and its path relative to this notebook.\n",
    "    \n",
    "    Returns\n",
    "    -------\n",
    "    df: pandas.df\n",
    "        `Pandas` data frame (table).\n",
    "\n",
    "    Examples\n",
    "    --------\n",
    "    '''\n",
    "    import pandas as pd\n",
    "    \n",
    "    df = pd.read_csv( file_name,  \n",
    "                      skiprows=6,\n",
    "                      delim_whitespace=True)\n",
    "    \n",
    "# to avoid frustrations, set explicitly the data types of each column\n",
    "    for c in df.columns: \n",
    "        if c == 'Y(NO-DIM)':\n",
    "            continue\n",
    "        df = df.astype({c:float},copy=False)\n",
    "\n",
    "    #print(df.dtypes)\n",
    "    return df"
   ]
  },
  {
   "cell_type": "code",
   "execution_count": 3,
   "metadata": {},
   "outputs": [],
   "source": [
    "'''Read data'''\n",
    "\n",
    "cfpy_az_df = read_table('data/u-235-cfpy-AZ-thermal.dat')"
   ]
  },
  {
   "cell_type": "code",
   "execution_count": 4,
   "metadata": {
    "code_folding": [
     2,
     7
    ]
   },
   "outputs": [],
   "source": [
    "'''Function for creating a FP yield(A,Z) list container'''\n",
    "\n",
    "def get_fpy_az( df ):\n",
    "    '''\n",
    "    Create a list of named tuple nuclides\n",
    "    Parameters\n",
    "    ----------\n",
    "    df: pandas data frame, required\n",
    "        Table of data for nuclides.\n",
    "    \n",
    "    Returns\n",
    "    -------\n",
    "    nuclides: list(namedtuple)\n",
    "        List of namedtuples. Names: name, element_name, Z, A, yield_percent.\n",
    "\n",
    "    Examples\n",
    "    --------\n",
    "    '''\n",
    "    \n",
    "    nuclides = list()\n",
    "\n",
    "    # design a container data structure\n",
    "    from collections import namedtuple\n",
    "    FPY = namedtuple('FPY', ['name','element_name','Z','A','yield_percent'])\n",
    "\n",
    "    import pandas as pd\n",
    "\n",
    "    # Use the Mendeleev python package (periodic table of elements)\n",
    "    from mendeleev import element\n",
    "    \n",
    "    total_yield = 0.0 # sum total yield\n",
    "    for row in df.itertuples(index=False):\n",
    "        z = int(row[0])\n",
    "        for j in range(1,len(row)-1):\n",
    "            if row[j] < 1.e-10: # this will eliminate many zeros\n",
    "                continue\n",
    "            a_str = df.columns[j] # index column is not part of the columns\n",
    "            symbol = element(z).symbol\n",
    "            name = name=symbol+'-'+a_str\n",
    "            element_name = element(z).name\n",
    "            yield_value = row[j]\n",
    "            total_yield += yield_value\n",
    "            nuc = FPY( name=name, element_name=element_name, Z=z, A=int(a_str), yield_percent=yield_value )\n",
    "        \n",
    "            nuclides.append(nuc)\n",
    "            \n",
    "    print('Sum of yield values in data file = ',round(total_yield,2))\n",
    "    return nuclides"
   ]
  },
  {
   "cell_type": "code",
   "execution_count": 5,
   "metadata": {},
   "outputs": [
    {
     "name": "stdout",
     "output_type": "stream",
     "text": [
      "Sum of yield values in data file =  841.41\n",
      "Sum of yield values in dictionary container =  841.41\n",
      "# of FP nuclides =  796\n"
     ]
    }
   ],
   "source": [
    "'''Create the FP yield(A,Z) list container'''\n",
    "\n",
    "cfpy_az = get_fpy_az( cfpy_az_df )\n",
    "print('Sum of yield values in dictionary container = ',round(sum([fp.yield_percent for fp in cfpy_az]),2))\n",
    "print('# of FP nuclides = ', len(cfpy_az))"
   ]
  },
  {
   "cell_type": "code",
   "execution_count": null,
   "metadata": {},
   "outputs": [],
   "source": [
    "'''Function to plot a 3-D surface plot or a 2D surface plot'''\n",
    "# to do"
   ]
  },
  {
   "cell_type": "code",
   "execution_count": null,
   "metadata": {},
   "outputs": [],
   "source": [
    "'''Plot FP yield on the A,Z plane'''\n",
    "# to do"
   ]
  },
  {
   "cell_type": "code",
   "execution_count": null,
   "metadata": {},
   "outputs": [],
   "source": [
    "'''Total sum of independent FP yield per 100 fissions'''\n",
    "\n",
    "print('Total sum = ',round(sum([fpy.yield_percent for fpy in cfpy_az]),1))"
   ]
  },
  {
   "cell_type": "code",
   "execution_count": null,
   "metadata": {},
   "outputs": [],
   "source": [
    "'''Min and Max mass number A'''\n",
    "\n",
    "print('Min A = ',min([fpy.A for fpy in cfpy_az]))\n",
    "print('Max A = ',max([fpy.A for fpy in cfpy_az]))"
   ]
  },
  {
   "cell_type": "code",
   "execution_count": null,
   "metadata": {
    "code_folding": [
     2
    ]
   },
   "outputs": [],
   "source": [
    "'''Plot function for nuclides yield'''\n",
    "\n",
    "def plot_nuclides(fpy):\n",
    "    \n",
    "    from matplotlib import pyplot as plt # import the pyplot function of the matplotlib package\n",
    "    (fig, ax) = plt.subplots(figsize=(18,7))\n",
    "\n",
    "    ax.plot(range(len(fpy)), [nc.yield_percent for nc in fpy], \n",
    "            '-.',color='black', marker='o',markersize=10)\n",
    "    \n",
    "    ax.set_xlabel('Nuclide',fontsize=18)\n",
    "    ax.set_ylabel(r'Yield [%]',fontsize=18)\n",
    "    \n",
    "    plt.xticks(range(0,len(fpy),2),[nc.name for nc in fpy][::2],rotation=70,fontsize=12)\n",
    "\n",
    "    ax.set_xlim((-1,len(fpy)))\n",
    "    \n",
    "    # create a twin y axis to reconfigure the top x axis\n",
    "    ay1 = ax.twiny()\n",
    "    ay1.set_xlim(ax.get_xlim())\n",
    "    #ay1.xaxis.tick_top()\n",
    "    ay1.set_xticks([])\n",
    "    ay1.set_xticks(range(1,len(fpy),2),[nc.name for nc in fpy][1::2])\n",
    "    ay1.set_xticklabels([nc.name for nc in fpy][1::2],minor=True,fontsize=12,rotation=70)\n",
    "\n",
    "    plt.xticks(fontsize=12)\n",
    "    plt.yticks(fontsize=12)\n",
    "    \n",
    "    plt.title('Cumulative (Decayed) Fission Products (>1% Yield)',fontsize=22)\n",
    "    ax.grid(True)\n",
    "    #plt.yscale('log')\n",
    "    plt.show()\n",
    "\n",
    "    return"
   ]
  },
  {
   "cell_type": "code",
   "execution_count": null,
   "metadata": {},
   "outputs": [],
   "source": [
    "'''Plot FP nuclides with 1% or more fission yield'''\n",
    "\n",
    "fp_1_percent = list()\n",
    "for fp in cfpy_az:\n",
    "    if fp.yield_percent >= 1.0:\n",
    "        fp_1_percent.append(fp)\n",
    "        \n",
    "print('# of FP nuclides = ', len(fp_1_percent))\n",
    "\n",
    "plot_nuclides(fp_1_percent)"
   ]
  },
  {
   "cell_type": "markdown",
   "metadata": {},
   "source": [
    "## Nuclide half-life times<a id=\"halflife\"></a>\n",
    "Collect the half-lives of all nuclides known in a certain range; see next.\n",
    "Using the [NNDC Nuclides Wallet Cards Search](https://www.nndc.bnl.gov/nudat2/indx_sigma.jsp), \n",
    "+ set the `A range` to min. A to max. A\n",
    "+ enable `T1/2(level) condition` and set half-life range from 0 to 50 My\n",
    "+ set `Ordering` to `Formatted File`\n",
    "+ set `Uncertainties` to `Standard Style`\n",
    "+ click on the `Search` button\n",
    "+ wait for the results window to appear \n",
    "+ use your browser's save page as to save the data to a text file\n",
    "+ rename the file to `nuclides-half-lives.dat`\n",
    "+ unfortunately this file requires some clean-up including avoiding repeated values.\n",
    "+ there is a clean version of this data file in this course repository `data/` directory."
   ]
  },
  {
   "cell_type": "code",
   "execution_count": null,
   "metadata": {
    "scrolled": true
   },
   "outputs": [],
   "source": [
    "'''View head and tail of the raw data'''\n",
    "\n",
    "!head -n 4 data/nuclides-half-lives.dat\n",
    "print('')\n",
    "!tail -n 4 data/nuclides-half-lives.dat"
   ]
  },
  {
   "cell_type": "code",
   "execution_count": null,
   "metadata": {
    "code_folding": [
     2,
     8
    ]
   },
   "outputs": [],
   "source": [
    "'''Function to read the blank-spaced column data into a Pandas data frame (table)'''\n",
    "\n",
    "def read_table(file_name):\n",
    "    '''\n",
    "    Read table data into a `pandas` data frame (table).  \n",
    "    \n",
    "    Parameters\n",
    "    ----------\n",
    "    file_name: str, required\n",
    "        File name and its path relative to this notebook.\n",
    "    \n",
    "    Returns\n",
    "    -------\n",
    "    df: pandas.df\n",
    "        `Pandas` data frame (table).\n",
    "\n",
    "    Examples\n",
    "    --------\n",
    "    '''\n",
    "    import pandas as pd\n",
    "\n",
    "    # read the data into a data frame (or table)   \n",
    "    df = pd.read_csv(file_name, delim_whitespace=True)\n",
    "    \n",
    "    # to avoid frustrations, set explicitly the data types of each column\n",
    "    df = df.astype({'A':int,'Element':str,'Z':int,'N':int,'T1/2-(seconds)':float},copy=False)\n",
    "    print(df.dtypes)\n",
    "\n",
    "    return df"
   ]
  },
  {
   "cell_type": "code",
   "execution_count": null,
   "metadata": {},
   "outputs": [],
   "source": [
    "'''Read data and verify data types'''\n",
    "\n",
    "df = read_table('data/nuclides-half-lives.dat')"
   ]
  },
  {
   "cell_type": "code",
   "execution_count": null,
   "metadata": {
    "code_folding": [
     7
    ]
   },
   "outputs": [],
   "source": [
    "'''Function for creating a nuclide container'''\n",
    "\n",
    "def get_nuclides( df ):\n",
    "    '''\n",
    "    Create a dictionary of nuclide name key and named tuple value\n",
    "    Parameters\n",
    "    ----------\n",
    "    df: pandas data frame, required\n",
    "        Table of data for nuclides.\n",
    "    \n",
    "    Returns\n",
    "    -------\n",
    "    nuclides: dict(name:namedtuple)\n",
    "        Dictionary of name key and namedtuple values. Tuple names: element_name, symbol, Z, A, radius, unc.\n",
    "\n",
    "    Examples\n",
    "    --------\n",
    "    '''\n",
    "    \n",
    "    nuclides = dict()\n",
    "\n",
    "    # design a container data structure\n",
    "    from collections import namedtuple\n",
    "    Nuclide = namedtuple('Nuclide', ['element_name','symbol','Z','A','half_life'])\n",
    "\n",
    "    # fill in the list of containers\n",
    "    misses = 0 # counter of nuclides without radius data\n",
    "    a_max = 0 # maximum A number with radius data present\n",
    "    z_max = 0 # maximum Z number with radius data present\n",
    "    t_max = 0\n",
    "\n",
    "    import pandas as pd\n",
    "    \n",
    "    # Use the Mendeleev python package (periodic table of elements)\n",
    "    from mendeleev import element\n",
    "    \n",
    "    # if df has duplicates, this loop will take care of it\n",
    "    for row in df.itertuples(index=False):\n",
    "\n",
    "        a = int(row[0])\n",
    "        symbol = row[1]\n",
    "        z = int(row[2])\n",
    "        t = row[4]\n",
    "        if pd.isnull(t): # missing half-life\n",
    "            misses += 1\n",
    "            continue\n",
    "        if t/3600/24/365 > 50e+6: # remove anything with more than 50 My\n",
    "            continue\n",
    "\n",
    "        a_max = max(a,a_max)\n",
    "        z_max = max(z,z_max)\n",
    "        \n",
    "        name = symbol+'-'+str(a)\n",
    "        t_max = max(t,t_max)\n",
    "        nuc = Nuclide( element_name=element(z).name, symbol=symbol, Z=z, A=a, half_life=t )\n",
    "        \n",
    "        nuclides[name]=nuc\n",
    "\n",
    "    print('Number of nuclides with    t_1/2 data = ',len(nuclides))\n",
    "    print('Number of nuclides without t_1/2 data = ',misses)\n",
    "    print('')\n",
    "    print('Max Z number with t_1/2 data = ',z_max)\n",
    "    print('Max A number with t_1/2 data = ',a_max)\n",
    "    print('t_1/2 [Ma] max = ',t_max/3600/24/365/1000000)\n",
    "    \n",
    "    return nuclides"
   ]
  },
  {
   "cell_type": "code",
   "execution_count": null,
   "metadata": {},
   "outputs": [],
   "source": [
    "'''Create nuclides dictionary from data frame'''\n",
    "\n",
    "nuclides = get_nuclides( df )"
   ]
  },
  {
   "cell_type": "code",
   "execution_count": null,
   "metadata": {},
   "outputs": [],
   "source": [
    "nuclides"
   ]
  },
  {
   "cell_type": "code",
   "execution_count": null,
   "metadata": {
    "code_folding": [
     2
    ]
   },
   "outputs": [],
   "source": [
    "'''Plot function for nuclides half-life'''\n",
    "\n",
    "def plot_nuclides(nuclides):\n",
    "    \n",
    "    from matplotlib import pyplot as plt # import the pyplot function of the matplotlib package\n",
    "    (fig, ax) = plt.subplots(figsize=(18,7))\n",
    "\n",
    "    ax.plot([nc.Z for nc in nuclides.values()], [nc.half_life/3600/24/365 for nc in nuclides.values()], \n",
    "            ' ',color='black', marker='x',markersize=10)\n",
    "    \n",
    "    #plt.xticks(range(0,len(nuclides),20),[nc.symbol for nc in nuclides.values()][::20],rotation=0,fontsize=12)\n",
    "    min_z = min([nc.Z for nc in nuclides.values()])\n",
    "    max_z = max([nc.Z for nc in nuclides.values()])\n",
    "\n",
    "    ax.xaxis.set_ticks(range(min_z, max_z+1,2))\n",
    "    ax.set_xlim((min_z-1,max_z+1))\n",
    "\n",
    "    plt.xlabel(r'Nuclide Z Number',fontsize=18)\n",
    "    plt.ylabel(r'$T_{1/2} [a]$',fontsize=18)\n",
    "    plt.xticks(fontsize=14)\n",
    "    plt.yticks(fontsize=16)\n",
    "    \n",
    "    # create a twin y axis to reconfigure the top x axis\n",
    "    ay1 = ax.twiny()\n",
    "    ay1.set_xlim(ax.get_xlim())\n",
    "    #ay1.xaxis.tick_top()\n",
    "    ay1.set_xticks([])\n",
    "    from mendeleev import element\n",
    "    #ay1.set_xticks(range(0,len(atoms),2),[atm.symbol for atm in atoms][::2],rotation=0,fontsize=12)\n",
    "    ay1.set_xticks(range(min_z,max_z+1), [element(z).symbol for z in range(min_z,max_z+1)])\n",
    "    ay1.set_xticklabels([element(z).symbol for z in range(min_z,max_z+1)],minor=True,fontsize=12)\n",
    "\n",
    "    min_a = min([nc.A for nc in nuclides.values()])\n",
    "    max_a = max([nc.A for nc in nuclides.values()])\n",
    "    \n",
    "    plt.title(r'%i Nuclides: $%i \\leq A \\leq %i$ '%(len(nuclides),min_a,max_a),fontsize=22)\n",
    "    ax.grid(True)\n",
    "    plt.yscale('log')\n",
    "    plt.show()\n",
    "\n",
    "    return"
   ]
  },
  {
   "cell_type": "code",
   "execution_count": null,
   "metadata": {},
   "outputs": [],
   "source": [
    "'''Plot half-life of nuclides'''\n",
    "\n",
    "plot_nuclides(nuclides)"
   ]
  },
  {
   "cell_type": "markdown",
   "metadata": {},
   "source": [
    "## Cumulative fission products half-life times<a id=\"cfphalflife\"></a>\n",
    "\n",
    "For those with 1% yield or more."
   ]
  },
  {
   "cell_type": "code",
   "execution_count": null,
   "metadata": {
    "code_folding": [],
    "scrolled": true
   },
   "outputs": [],
   "source": [
    "'''Function to compute half-life times of given nuclides'''\n",
    "\n",
    "def half_life_times(fp_list, nuclides_data):\n",
    "\n",
    "    half_life_1_10       = set()\n",
    "    half_life_10_100     = set()\n",
    "    half_life_100_1000   = set()\n",
    "    half_life_1000_1M    = set()\n",
    "    half_life_1M_10M     = set()\n",
    "    half_life_10M_50M    = set()\n",
    "    half_life_50M_infty  = set()\n",
    "    \n",
    "    for fp in fp_list:\n",
    "        name = fp.name \n",
    "        if name in nuclides.keys():\n",
    "            nc    = nuclides[name]\n",
    "            element_name = nc.element_name\n",
    "            h_f_y = nc.half_life/3600/24/365\n",
    "        else:\n",
    "            #print('missing nuclide half-life...')\n",
    "            #print('Cumulative FP nuclide: ',nc)\n",
    "            #print('assuming half-life greater than 10 My')\n",
    "            #print('continuing...')\n",
    "            element_name = fp.element_name\n",
    "            h_f_y = 50e+6 + 1/365       \n",
    "    \n",
    "        save = (name,element_name)\n",
    "        if h_f_y >= 1 and h_f_y < 10:\n",
    "            half_life_1_10.add(save)\n",
    "        elif h_f_y >= 10 and h_f_y < 100:\n",
    "            half_life_10_100.add(save)\n",
    "        elif h_f_y >= 100 and h_f_y < 1000:\n",
    "            half_life_100_1000.add(save)\n",
    "        elif h_f_y >= 1000 and h_f_y < 1e+6:\n",
    "            half_life_1000_1M.add(save)\n",
    "        elif h_f_y >= 1e+6 and h_f_y < 10e+6:\n",
    "            half_life_1M_10M.add(save)\n",
    "        elif h_f_y >= 10e+6 and h_f_y < 50e+6:\n",
    "            half_life_10M_50M.add(save)\n",
    "        else:\n",
    "            half_life_50M_infty.add(save)\n",
    "            \n",
    "    print('1   to 10  years = ',half_life_1_10)\n",
    "    print('10  to 100 years = ',half_life_10_100)\n",
    "    print('100 to 1k  years = ',half_life_100_1000)\n",
    "    print('1k  to 1M  years = ',half_life_1000_1M)\n",
    "    print('1M  to 10M years = ',half_life_1M_10M)\n",
    "    print('10M to 50M years = ',half_life_10M_50M)\n",
    "    #print('50M to --> years = ',half_life_50M_infty)\n",
    "    \n",
    "    return"
   ]
  },
  {
   "cell_type": "code",
   "execution_count": null,
   "metadata": {
    "scrolled": true
   },
   "outputs": [],
   "source": [
    "'''Compute half-life times of cumulative FP with >1% yield'''\n",
    "\n",
    "print('total # of FP nuclides = ', len(fp_1_percent))\n",
    "print('')\n",
    "half_life_times(fp_1_percent,nuclides)"
   ]
  },
  {
   "cell_type": "code",
   "execution_count": null,
   "metadata": {
    "scrolled": true
   },
   "outputs": [],
   "source": [
    "'''Compute half-life times of cumulative FP all yields'''\n",
    "\n",
    "print('total # of FP nuclides = ', len(cfpy_az))\n",
    "print('')\n",
    "half_life_times(cfpy_az,nuclides)"
   ]
  },
  {
   "cell_type": "code",
   "execution_count": null,
   "metadata": {},
   "outputs": [],
   "source": [
    "'''Compute half-life times of cumulative FP with >0.1% yield'''\n",
    "\n",
    "fp_0dot1_percent = list()\n",
    "for fp in cfpy_az:\n",
    "    if fp.yield_percent >= 0.1:\n",
    "        fp_0dot1_percent.append(fp)\n",
    "        \n",
    "print('total # of FP nuclides = ', len(fp_0dot1_percent))\n",
    "print('')\n",
    "half_life_times(fp_0dot1_percent,nuclides)"
   ]
  },
  {
   "cell_type": "code",
   "execution_count": null,
   "metadata": {},
   "outputs": [],
   "source": []
  }
 ],
 "metadata": {
  "kernelspec": {
   "display_name": "Python 3",
   "language": "python",
   "name": "python3"
  },
  "language_info": {
   "codemirror_mode": {
    "name": "ipython",
    "version": 3
   },
   "file_extension": ".py",
   "mimetype": "text/x-python",
   "name": "python",
   "nbconvert_exporter": "python",
   "pygments_lexer": "ipython3",
   "version": "3.7.1"
  },
  "latex_envs": {
   "LaTeX_envs_menu_present": true,
   "autoclose": false,
   "autocomplete": true,
   "bibliofile": "biblio.bib",
   "cite_by": "apalike",
   "current_citInitial": 1,
   "eqLabelWithNumbers": true,
   "eqNumInitial": 1,
   "hotkeys": {
    "equation": "Ctrl-E",
    "itemize": "Ctrl-I"
   },
   "labels_anchors": false,
   "latex_user_defs": false,
   "report_style_numbering": false,
   "user_envs_cfg": false
  }
 },
 "nbformat": 4,
 "nbformat_minor": 2
}
